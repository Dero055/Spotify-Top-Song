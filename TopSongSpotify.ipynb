{
  "nbformat": 4,
  "nbformat_minor": 0,
  "metadata": {
    "colab": {
      "name": "TopSongSpotify-Part2.ipynb",
      "provenance": [],
      "collapsed_sections": [
        "Rd_M-sthgsal",
        "a_nrDLPomZ_3"
      ]
    },
    "kernelspec": {
      "name": "python3",
      "display_name": "Python 3"
    }
  },
  "cells": [
    {
      "cell_type": "code",
      "metadata": {
        "id": "f0ZlyghzSfWw"
      },
      "source": [
        "import pandas as pd\n",
        "import numpy as np"
      ],
      "execution_count": null,
      "outputs": []
    },
    {
      "cell_type": "code",
      "metadata": {
        "id": "6KZoqzOjLU13",
        "colab": {
          "base_uri": "https://localhost:8080/",
          "height": 121
        },
        "outputId": "f4e1afb6-fe40-472a-f6c7-34f864044a23"
      },
      "source": [
        "from google.colab import drive\n",
        "drive.mount('/content/drive')"
      ],
      "execution_count": null,
      "outputs": [
        {
          "output_type": "stream",
          "text": [
            "Go to this URL in a browser: https://accounts.google.com/o/oauth2/auth?client_id=947318989803-6bn6qk8qdgf4n4g3pfee6491hc0brc4i.apps.googleusercontent.com&redirect_uri=urn%3aietf%3awg%3aoauth%3a2.0%3aoob&response_type=code&scope=email%20https%3a%2f%2fwww.googleapis.com%2fauth%2fdocs.test%20https%3a%2f%2fwww.googleapis.com%2fauth%2fdrive%20https%3a%2f%2fwww.googleapis.com%2fauth%2fdrive.photos.readonly%20https%3a%2f%2fwww.googleapis.com%2fauth%2fpeopleapi.readonly\n",
            "\n",
            "Enter your authorization code:\n",
            "··········\n",
            "Mounted at /content/drive\n"
          ],
          "name": "stdout"
        }
      ]
    },
    {
      "cell_type": "code",
      "metadata": {
        "id": "3LLjxWIuUBOp",
        "colab": {
          "base_uri": "https://localhost:8080/",
          "height": 50
        },
        "outputId": "4f0ae36f-cd8a-43e0-cbe1-8f0d95748e44"
      },
      "source": [
        "!unzip \"/content/drive/My Drive/Colab Notebooks/data.csv.zip\""
      ],
      "execution_count": null,
      "outputs": [
        {
          "output_type": "stream",
          "text": [
            "Archive:  /content/drive/My Drive/Colab Notebooks/data.csv.zip\n",
            "  inflating: data.csv                \n"
          ],
          "name": "stdout"
        }
      ]
    },
    {
      "cell_type": "markdown",
      "metadata": {
        "id": "1mpD0sKftlSY"
      },
      "source": [
        "# Load dữ liệu"
      ]
    },
    {
      "cell_type": "code",
      "metadata": {
        "id": "JvEfNVsjT-oy",
        "colab": {
          "base_uri": "https://localhost:8080/",
          "height": 402
        },
        "outputId": "49267432-2306-420a-d6b9-b56027a00058"
      },
      "source": [
        "data_df = pd.read_csv(\"data.csv\")\n",
        "data_df"
      ],
      "execution_count": null,
      "outputs": [
        {
          "output_type": "execute_result",
          "data": {
            "text/html": [
              "<div>\n",
              "<style scoped>\n",
              "    .dataframe tbody tr th:only-of-type {\n",
              "        vertical-align: middle;\n",
              "    }\n",
              "\n",
              "    .dataframe tbody tr th {\n",
              "        vertical-align: top;\n",
              "    }\n",
              "\n",
              "    .dataframe thead th {\n",
              "        text-align: right;\n",
              "    }\n",
              "</style>\n",
              "<table border=\"1\" class=\"dataframe\">\n",
              "  <thead>\n",
              "    <tr style=\"text-align: right;\">\n",
              "      <th></th>\n",
              "      <th>Position</th>\n",
              "      <th>Track Name</th>\n",
              "      <th>Artist</th>\n",
              "      <th>Streams</th>\n",
              "      <th>URL</th>\n",
              "      <th>Date</th>\n",
              "      <th>Region</th>\n",
              "    </tr>\n",
              "  </thead>\n",
              "  <tbody>\n",
              "    <tr>\n",
              "      <th>0</th>\n",
              "      <td>1</td>\n",
              "      <td>Reggaetón Lento (Bailemos)</td>\n",
              "      <td>CNCO</td>\n",
              "      <td>19272</td>\n",
              "      <td>https://open.spotify.com/track/3AEZUABDXNtecAO...</td>\n",
              "      <td>2017-01-01</td>\n",
              "      <td>ec</td>\n",
              "    </tr>\n",
              "    <tr>\n",
              "      <th>1</th>\n",
              "      <td>2</td>\n",
              "      <td>Chantaje</td>\n",
              "      <td>Shakira</td>\n",
              "      <td>19270</td>\n",
              "      <td>https://open.spotify.com/track/6mICuAdrwEjh6Y6...</td>\n",
              "      <td>2017-01-01</td>\n",
              "      <td>ec</td>\n",
              "    </tr>\n",
              "    <tr>\n",
              "      <th>2</th>\n",
              "      <td>3</td>\n",
              "      <td>Otra Vez (feat. J Balvin)</td>\n",
              "      <td>Zion &amp; Lennox</td>\n",
              "      <td>15761</td>\n",
              "      <td>https://open.spotify.com/track/3QwBODjSEzelZyV...</td>\n",
              "      <td>2017-01-01</td>\n",
              "      <td>ec</td>\n",
              "    </tr>\n",
              "    <tr>\n",
              "      <th>3</th>\n",
              "      <td>4</td>\n",
              "      <td>Vente Pa' Ca</td>\n",
              "      <td>Ricky Martin</td>\n",
              "      <td>14954</td>\n",
              "      <td>https://open.spotify.com/track/7DM4BPaS7uofFul...</td>\n",
              "      <td>2017-01-01</td>\n",
              "      <td>ec</td>\n",
              "    </tr>\n",
              "    <tr>\n",
              "      <th>4</th>\n",
              "      <td>5</td>\n",
              "      <td>Safari</td>\n",
              "      <td>J Balvin</td>\n",
              "      <td>14269</td>\n",
              "      <td>https://open.spotify.com/track/6rQSrBHf7HlZjtc...</td>\n",
              "      <td>2017-01-01</td>\n",
              "      <td>ec</td>\n",
              "    </tr>\n",
              "    <tr>\n",
              "      <th>...</th>\n",
              "      <td>...</td>\n",
              "      <td>...</td>\n",
              "      <td>...</td>\n",
              "      <td>...</td>\n",
              "      <td>...</td>\n",
              "      <td>...</td>\n",
              "      <td>...</td>\n",
              "    </tr>\n",
              "    <tr>\n",
              "      <th>3441192</th>\n",
              "      <td>196</td>\n",
              "      <td>More Than You Know</td>\n",
              "      <td>Axwell /\\ Ingrosso</td>\n",
              "      <td>2126</td>\n",
              "      <td>https://open.spotify.com/track/71bBFbfn2OBK5Qw...</td>\n",
              "      <td>2018-01-09</td>\n",
              "      <td>hk</td>\n",
              "    </tr>\n",
              "    <tr>\n",
              "      <th>3441193</th>\n",
              "      <td>197</td>\n",
              "      <td>Issues</td>\n",
              "      <td>Julia Michaels</td>\n",
              "      <td>2117</td>\n",
              "      <td>https://open.spotify.com/track/7vu0JkJh0ldukEY...</td>\n",
              "      <td>2018-01-09</td>\n",
              "      <td>hk</td>\n",
              "    </tr>\n",
              "    <tr>\n",
              "      <th>3441194</th>\n",
              "      <td>198</td>\n",
              "      <td>Tuo Fei Lun</td>\n",
              "      <td>Eason Chan</td>\n",
              "      <td>2112</td>\n",
              "      <td>https://open.spotify.com/track/0pmGleExiQyd0Hx...</td>\n",
              "      <td>2018-01-09</td>\n",
              "      <td>hk</td>\n",
              "    </tr>\n",
              "    <tr>\n",
              "      <th>3441195</th>\n",
              "      <td>199</td>\n",
              "      <td>面具</td>\n",
              "      <td>Alfred Hui</td>\n",
              "      <td>2102</td>\n",
              "      <td>https://open.spotify.com/track/58SUsgamkW6vFFq...</td>\n",
              "      <td>2018-01-09</td>\n",
              "      <td>hk</td>\n",
              "    </tr>\n",
              "    <tr>\n",
              "      <th>3441196</th>\n",
              "      <td>200</td>\n",
              "      <td>Let Her Go</td>\n",
              "      <td>Passenger</td>\n",
              "      <td>2088</td>\n",
              "      <td>https://open.spotify.com/track/2jyjhRf6DVbMPU5...</td>\n",
              "      <td>2018-01-09</td>\n",
              "      <td>hk</td>\n",
              "    </tr>\n",
              "  </tbody>\n",
              "</table>\n",
              "<p>3441197 rows × 7 columns</p>\n",
              "</div>"
            ],
            "text/plain": [
              "         Position                  Track Name  ...        Date  Region\n",
              "0               1  Reggaetón Lento (Bailemos)  ...  2017-01-01      ec\n",
              "1               2                    Chantaje  ...  2017-01-01      ec\n",
              "2               3   Otra Vez (feat. J Balvin)  ...  2017-01-01      ec\n",
              "3               4                Vente Pa' Ca  ...  2017-01-01      ec\n",
              "4               5                      Safari  ...  2017-01-01      ec\n",
              "...           ...                         ...  ...         ...     ...\n",
              "3441192       196          More Than You Know  ...  2018-01-09      hk\n",
              "3441193       197                      Issues  ...  2018-01-09      hk\n",
              "3441194       198                 Tuo Fei Lun  ...  2018-01-09      hk\n",
              "3441195       199                          面具  ...  2018-01-09      hk\n",
              "3441196       200                  Let Her Go  ...  2018-01-09      hk\n",
              "\n",
              "[3441197 rows x 7 columns]"
            ]
          },
          "metadata": {
            "tags": []
          },
          "execution_count": 4
        }
      ]
    },
    {
      "cell_type": "code",
      "metadata": {
        "id": "NkX2g-Z1Ugym",
        "colab": {
          "base_uri": "https://localhost:8080/",
          "height": 350
        },
        "outputId": "77104ea5-6b0a-481f-ab40-d5e94ddc2ced"
      },
      "source": [
        "feature_df = pd.read_csv(\"/content/drive/My Drive/Colab Notebooks/featuresdf.csv\")\n",
        "feature_df.head()"
      ],
      "execution_count": null,
      "outputs": [
        {
          "output_type": "execute_result",
          "data": {
            "text/html": [
              "<div>\n",
              "<style scoped>\n",
              "    .dataframe tbody tr th:only-of-type {\n",
              "        vertical-align: middle;\n",
              "    }\n",
              "\n",
              "    .dataframe tbody tr th {\n",
              "        vertical-align: top;\n",
              "    }\n",
              "\n",
              "    .dataframe thead th {\n",
              "        text-align: right;\n",
              "    }\n",
              "</style>\n",
              "<table border=\"1\" class=\"dataframe\">\n",
              "  <thead>\n",
              "    <tr style=\"text-align: right;\">\n",
              "      <th></th>\n",
              "      <th>id</th>\n",
              "      <th>name</th>\n",
              "      <th>artists</th>\n",
              "      <th>danceability</th>\n",
              "      <th>energy</th>\n",
              "      <th>key</th>\n",
              "      <th>loudness</th>\n",
              "      <th>mode</th>\n",
              "      <th>speechiness</th>\n",
              "      <th>acousticness</th>\n",
              "      <th>instrumentalness</th>\n",
              "      <th>liveness</th>\n",
              "      <th>valence</th>\n",
              "      <th>tempo</th>\n",
              "      <th>duration_ms</th>\n",
              "      <th>time_signature</th>\n",
              "    </tr>\n",
              "  </thead>\n",
              "  <tbody>\n",
              "    <tr>\n",
              "      <th>0</th>\n",
              "      <td>7qiZfU4dY1lWllzX7mPBI</td>\n",
              "      <td>Shape of You</td>\n",
              "      <td>Ed Sheeran</td>\n",
              "      <td>0.825</td>\n",
              "      <td>0.652</td>\n",
              "      <td>1.0</td>\n",
              "      <td>-3.183</td>\n",
              "      <td>0.0</td>\n",
              "      <td>0.0802</td>\n",
              "      <td>0.5810</td>\n",
              "      <td>0.000000</td>\n",
              "      <td>0.0931</td>\n",
              "      <td>0.931</td>\n",
              "      <td>95.977</td>\n",
              "      <td>233713.0</td>\n",
              "      <td>4.0</td>\n",
              "    </tr>\n",
              "    <tr>\n",
              "      <th>1</th>\n",
              "      <td>5CtI0qwDJkDQGwXD1H1cL</td>\n",
              "      <td>Despacito - Remix</td>\n",
              "      <td>Luis Fonsi</td>\n",
              "      <td>0.694</td>\n",
              "      <td>0.815</td>\n",
              "      <td>2.0</td>\n",
              "      <td>-4.328</td>\n",
              "      <td>1.0</td>\n",
              "      <td>0.1200</td>\n",
              "      <td>0.2290</td>\n",
              "      <td>0.000000</td>\n",
              "      <td>0.0924</td>\n",
              "      <td>0.813</td>\n",
              "      <td>88.931</td>\n",
              "      <td>228827.0</td>\n",
              "      <td>4.0</td>\n",
              "    </tr>\n",
              "    <tr>\n",
              "      <th>2</th>\n",
              "      <td>4aWmUDTfIPGksMNLV2rQP</td>\n",
              "      <td>Despacito (Featuring Daddy Yankee)</td>\n",
              "      <td>Luis Fonsi</td>\n",
              "      <td>0.660</td>\n",
              "      <td>0.786</td>\n",
              "      <td>2.0</td>\n",
              "      <td>-4.757</td>\n",
              "      <td>1.0</td>\n",
              "      <td>0.1700</td>\n",
              "      <td>0.2090</td>\n",
              "      <td>0.000000</td>\n",
              "      <td>0.1120</td>\n",
              "      <td>0.846</td>\n",
              "      <td>177.833</td>\n",
              "      <td>228200.0</td>\n",
              "      <td>4.0</td>\n",
              "    </tr>\n",
              "    <tr>\n",
              "      <th>3</th>\n",
              "      <td>6RUKPb4LETWmmr3iAEQkt</td>\n",
              "      <td>Something Just Like This</td>\n",
              "      <td>The Chainsmokers</td>\n",
              "      <td>0.617</td>\n",
              "      <td>0.635</td>\n",
              "      <td>11.0</td>\n",
              "      <td>-6.769</td>\n",
              "      <td>0.0</td>\n",
              "      <td>0.0317</td>\n",
              "      <td>0.0498</td>\n",
              "      <td>0.000014</td>\n",
              "      <td>0.1640</td>\n",
              "      <td>0.446</td>\n",
              "      <td>103.019</td>\n",
              "      <td>247160.0</td>\n",
              "      <td>4.0</td>\n",
              "    </tr>\n",
              "    <tr>\n",
              "      <th>4</th>\n",
              "      <td>3DXncPQOG4VBw3QHh3S81</td>\n",
              "      <td>I'm the One</td>\n",
              "      <td>DJ Khaled</td>\n",
              "      <td>0.609</td>\n",
              "      <td>0.668</td>\n",
              "      <td>7.0</td>\n",
              "      <td>-4.284</td>\n",
              "      <td>1.0</td>\n",
              "      <td>0.0367</td>\n",
              "      <td>0.0552</td>\n",
              "      <td>0.000000</td>\n",
              "      <td>0.1670</td>\n",
              "      <td>0.811</td>\n",
              "      <td>80.924</td>\n",
              "      <td>288600.0</td>\n",
              "      <td>4.0</td>\n",
              "    </tr>\n",
              "  </tbody>\n",
              "</table>\n",
              "</div>"
            ],
            "text/plain": [
              "                      id  ... time_signature\n",
              "0  7qiZfU4dY1lWllzX7mPBI  ...            4.0\n",
              "1  5CtI0qwDJkDQGwXD1H1cL  ...            4.0\n",
              "2  4aWmUDTfIPGksMNLV2rQP  ...            4.0\n",
              "3  6RUKPb4LETWmmr3iAEQkt  ...            4.0\n",
              "4  3DXncPQOG4VBw3QHh3S81  ...            4.0\n",
              "\n",
              "[5 rows x 16 columns]"
            ]
          },
          "metadata": {
            "tags": []
          },
          "execution_count": 6
        }
      ]
    },
    {
      "cell_type": "code",
      "metadata": {
        "id": "CeGDbj_StaQQ",
        "colab": {
          "base_uri": "https://localhost:8080/",
          "height": 747
        },
        "outputId": "974efd56-a811-4b6c-e3eb-99a87fd0f881"
      },
      "source": [
        "feature_df[\"duration\"] = np.round(feature_df[\"duration_ms\"].values /1000)\n",
        "feature_df"
      ],
      "execution_count": null,
      "outputs": [
        {
          "output_type": "execute_result",
          "data": {
            "text/html": [
              "<div>\n",
              "<style scoped>\n",
              "    .dataframe tbody tr th:only-of-type {\n",
              "        vertical-align: middle;\n",
              "    }\n",
              "\n",
              "    .dataframe tbody tr th {\n",
              "        vertical-align: top;\n",
              "    }\n",
              "\n",
              "    .dataframe thead th {\n",
              "        text-align: right;\n",
              "    }\n",
              "</style>\n",
              "<table border=\"1\" class=\"dataframe\">\n",
              "  <thead>\n",
              "    <tr style=\"text-align: right;\">\n",
              "      <th></th>\n",
              "      <th>id</th>\n",
              "      <th>name</th>\n",
              "      <th>artists</th>\n",
              "      <th>danceability</th>\n",
              "      <th>energy</th>\n",
              "      <th>key</th>\n",
              "      <th>loudness</th>\n",
              "      <th>mode</th>\n",
              "      <th>speechiness</th>\n",
              "      <th>acousticness</th>\n",
              "      <th>instrumentalness</th>\n",
              "      <th>liveness</th>\n",
              "      <th>valence</th>\n",
              "      <th>tempo</th>\n",
              "      <th>duration_ms</th>\n",
              "      <th>time_signature</th>\n",
              "      <th>duration</th>\n",
              "    </tr>\n",
              "  </thead>\n",
              "  <tbody>\n",
              "    <tr>\n",
              "      <th>0</th>\n",
              "      <td>7qiZfU4dY1lWllzX7mPBI</td>\n",
              "      <td>Shape of You</td>\n",
              "      <td>Ed Sheeran</td>\n",
              "      <td>0.825</td>\n",
              "      <td>0.652</td>\n",
              "      <td>1.0</td>\n",
              "      <td>-3.183</td>\n",
              "      <td>0.0</td>\n",
              "      <td>0.0802</td>\n",
              "      <td>0.5810</td>\n",
              "      <td>0.000000</td>\n",
              "      <td>0.0931</td>\n",
              "      <td>0.9310</td>\n",
              "      <td>95.977</td>\n",
              "      <td>233713.0</td>\n",
              "      <td>4.0</td>\n",
              "      <td>234.0</td>\n",
              "    </tr>\n",
              "    <tr>\n",
              "      <th>1</th>\n",
              "      <td>5CtI0qwDJkDQGwXD1H1cL</td>\n",
              "      <td>Despacito - Remix</td>\n",
              "      <td>Luis Fonsi</td>\n",
              "      <td>0.694</td>\n",
              "      <td>0.815</td>\n",
              "      <td>2.0</td>\n",
              "      <td>-4.328</td>\n",
              "      <td>1.0</td>\n",
              "      <td>0.1200</td>\n",
              "      <td>0.2290</td>\n",
              "      <td>0.000000</td>\n",
              "      <td>0.0924</td>\n",
              "      <td>0.8130</td>\n",
              "      <td>88.931</td>\n",
              "      <td>228827.0</td>\n",
              "      <td>4.0</td>\n",
              "      <td>229.0</td>\n",
              "    </tr>\n",
              "    <tr>\n",
              "      <th>2</th>\n",
              "      <td>4aWmUDTfIPGksMNLV2rQP</td>\n",
              "      <td>Despacito (Featuring Daddy Yankee)</td>\n",
              "      <td>Luis Fonsi</td>\n",
              "      <td>0.660</td>\n",
              "      <td>0.786</td>\n",
              "      <td>2.0</td>\n",
              "      <td>-4.757</td>\n",
              "      <td>1.0</td>\n",
              "      <td>0.1700</td>\n",
              "      <td>0.2090</td>\n",
              "      <td>0.000000</td>\n",
              "      <td>0.1120</td>\n",
              "      <td>0.8460</td>\n",
              "      <td>177.833</td>\n",
              "      <td>228200.0</td>\n",
              "      <td>4.0</td>\n",
              "      <td>228.0</td>\n",
              "    </tr>\n",
              "    <tr>\n",
              "      <th>3</th>\n",
              "      <td>6RUKPb4LETWmmr3iAEQkt</td>\n",
              "      <td>Something Just Like This</td>\n",
              "      <td>The Chainsmokers</td>\n",
              "      <td>0.617</td>\n",
              "      <td>0.635</td>\n",
              "      <td>11.0</td>\n",
              "      <td>-6.769</td>\n",
              "      <td>0.0</td>\n",
              "      <td>0.0317</td>\n",
              "      <td>0.0498</td>\n",
              "      <td>0.000014</td>\n",
              "      <td>0.1640</td>\n",
              "      <td>0.4460</td>\n",
              "      <td>103.019</td>\n",
              "      <td>247160.0</td>\n",
              "      <td>4.0</td>\n",
              "      <td>247.0</td>\n",
              "    </tr>\n",
              "    <tr>\n",
              "      <th>4</th>\n",
              "      <td>3DXncPQOG4VBw3QHh3S81</td>\n",
              "      <td>I'm the One</td>\n",
              "      <td>DJ Khaled</td>\n",
              "      <td>0.609</td>\n",
              "      <td>0.668</td>\n",
              "      <td>7.0</td>\n",
              "      <td>-4.284</td>\n",
              "      <td>1.0</td>\n",
              "      <td>0.0367</td>\n",
              "      <td>0.0552</td>\n",
              "      <td>0.000000</td>\n",
              "      <td>0.1670</td>\n",
              "      <td>0.8110</td>\n",
              "      <td>80.924</td>\n",
              "      <td>288600.0</td>\n",
              "      <td>4.0</td>\n",
              "      <td>289.0</td>\n",
              "    </tr>\n",
              "    <tr>\n",
              "      <th>...</th>\n",
              "      <td>...</td>\n",
              "      <td>...</td>\n",
              "      <td>...</td>\n",
              "      <td>...</td>\n",
              "      <td>...</td>\n",
              "      <td>...</td>\n",
              "      <td>...</td>\n",
              "      <td>...</td>\n",
              "      <td>...</td>\n",
              "      <td>...</td>\n",
              "      <td>...</td>\n",
              "      <td>...</td>\n",
              "      <td>...</td>\n",
              "      <td>...</td>\n",
              "      <td>...</td>\n",
              "      <td>...</td>\n",
              "      <td>...</td>\n",
              "    </tr>\n",
              "    <tr>\n",
              "      <th>95</th>\n",
              "      <td>1PSBzsahR2AKwLJgx8ehB</td>\n",
              "      <td>Bad Things (with Camila Cabello)</td>\n",
              "      <td>Machine Gun Kelly</td>\n",
              "      <td>0.675</td>\n",
              "      <td>0.690</td>\n",
              "      <td>2.0</td>\n",
              "      <td>-4.761</td>\n",
              "      <td>1.0</td>\n",
              "      <td>0.1320</td>\n",
              "      <td>0.2100</td>\n",
              "      <td>0.000000</td>\n",
              "      <td>0.2870</td>\n",
              "      <td>0.2720</td>\n",
              "      <td>137.817</td>\n",
              "      <td>239293.0</td>\n",
              "      <td>4.0</td>\n",
              "      <td>239.0</td>\n",
              "    </tr>\n",
              "    <tr>\n",
              "      <th>96</th>\n",
              "      <td>0QsvXIfqM0zZoerQfsI9l</td>\n",
              "      <td>Don't Let Me Down</td>\n",
              "      <td>The Chainsmokers</td>\n",
              "      <td>0.542</td>\n",
              "      <td>0.859</td>\n",
              "      <td>11.0</td>\n",
              "      <td>-5.651</td>\n",
              "      <td>1.0</td>\n",
              "      <td>0.1970</td>\n",
              "      <td>0.1600</td>\n",
              "      <td>0.004660</td>\n",
              "      <td>0.1370</td>\n",
              "      <td>0.4030</td>\n",
              "      <td>159.797</td>\n",
              "      <td>208053.0</td>\n",
              "      <td>4.0</td>\n",
              "      <td>208.0</td>\n",
              "    </tr>\n",
              "    <tr>\n",
              "      <th>97</th>\n",
              "      <td>7mldq42yDuxiUNn08nvzH</td>\n",
              "      <td>Body Like A Back Road</td>\n",
              "      <td>Sam Hunt</td>\n",
              "      <td>0.731</td>\n",
              "      <td>0.469</td>\n",
              "      <td>5.0</td>\n",
              "      <td>-7.226</td>\n",
              "      <td>1.0</td>\n",
              "      <td>0.0326</td>\n",
              "      <td>0.4630</td>\n",
              "      <td>0.000001</td>\n",
              "      <td>0.1030</td>\n",
              "      <td>0.6310</td>\n",
              "      <td>98.963</td>\n",
              "      <td>165387.0</td>\n",
              "      <td>4.0</td>\n",
              "      <td>165.0</td>\n",
              "    </tr>\n",
              "    <tr>\n",
              "      <th>98</th>\n",
              "      <td>7i2DJ88J7jQ8K7zqFX2fW</td>\n",
              "      <td>Now Or Never</td>\n",
              "      <td>Halsey</td>\n",
              "      <td>0.658</td>\n",
              "      <td>0.588</td>\n",
              "      <td>6.0</td>\n",
              "      <td>-4.902</td>\n",
              "      <td>0.0</td>\n",
              "      <td>0.0367</td>\n",
              "      <td>0.1050</td>\n",
              "      <td>0.000001</td>\n",
              "      <td>0.1250</td>\n",
              "      <td>0.4340</td>\n",
              "      <td>110.075</td>\n",
              "      <td>214802.0</td>\n",
              "      <td>4.0</td>\n",
              "      <td>215.0</td>\n",
              "    </tr>\n",
              "    <tr>\n",
              "      <th>99</th>\n",
              "      <td>1j4kHkkpqZRBwE0A4CN4Y</td>\n",
              "      <td>Dusk Till Dawn - Radio Edit</td>\n",
              "      <td>ZAYN</td>\n",
              "      <td>0.258</td>\n",
              "      <td>0.437</td>\n",
              "      <td>11.0</td>\n",
              "      <td>-6.593</td>\n",
              "      <td>0.0</td>\n",
              "      <td>0.0390</td>\n",
              "      <td>0.1010</td>\n",
              "      <td>0.000001</td>\n",
              "      <td>0.1060</td>\n",
              "      <td>0.0967</td>\n",
              "      <td>180.043</td>\n",
              "      <td>239000.0</td>\n",
              "      <td>4.0</td>\n",
              "      <td>239.0</td>\n",
              "    </tr>\n",
              "  </tbody>\n",
              "</table>\n",
              "<p>100 rows × 17 columns</p>\n",
              "</div>"
            ],
            "text/plain": [
              "                       id  ... duration\n",
              "0   7qiZfU4dY1lWllzX7mPBI  ...    234.0\n",
              "1   5CtI0qwDJkDQGwXD1H1cL  ...    229.0\n",
              "2   4aWmUDTfIPGksMNLV2rQP  ...    228.0\n",
              "3   6RUKPb4LETWmmr3iAEQkt  ...    247.0\n",
              "4   3DXncPQOG4VBw3QHh3S81  ...    289.0\n",
              "..                    ...  ...      ...\n",
              "95  1PSBzsahR2AKwLJgx8ehB  ...    239.0\n",
              "96  0QsvXIfqM0zZoerQfsI9l  ...    208.0\n",
              "97  7mldq42yDuxiUNn08nvzH  ...    165.0\n",
              "98  7i2DJ88J7jQ8K7zqFX2fW  ...    215.0\n",
              "99  1j4kHkkpqZRBwE0A4CN4Y  ...    239.0\n",
              "\n",
              "[100 rows x 17 columns]"
            ]
          },
          "metadata": {
            "tags": []
          },
          "execution_count": 9
        }
      ]
    },
    {
      "cell_type": "code",
      "metadata": {
        "id": "3zgo4CSjrfBU",
        "colab": {
          "base_uri": "https://localhost:8080/",
          "height": 1000
        },
        "outputId": "498c1e10-c8cb-4136-ae0a-5e90d31b7134"
      },
      "source": [
        "data_df[(data_df[\"Position\"]==1) & (data_df[\"Date\"]==\"2017-05-27\")]"
      ],
      "execution_count": null,
      "outputs": [
        {
          "output_type": "execute_result",
          "data": {
            "text/html": [
              "<div>\n",
              "<style scoped>\n",
              "    .dataframe tbody tr th:only-of-type {\n",
              "        vertical-align: middle;\n",
              "    }\n",
              "\n",
              "    .dataframe tbody tr th {\n",
              "        vertical-align: top;\n",
              "    }\n",
              "\n",
              "    .dataframe thead th {\n",
              "        text-align: right;\n",
              "    }\n",
              "</style>\n",
              "<table border=\"1\" class=\"dataframe\">\n",
              "  <thead>\n",
              "    <tr style=\"text-align: right;\">\n",
              "      <th></th>\n",
              "      <th>Position</th>\n",
              "      <th>Track Name</th>\n",
              "      <th>Artist</th>\n",
              "      <th>Streams</th>\n",
              "      <th>URL</th>\n",
              "      <th>Date</th>\n",
              "      <th>Region</th>\n",
              "    </tr>\n",
              "  </thead>\n",
              "  <tbody>\n",
              "    <tr>\n",
              "      <th>29200</th>\n",
              "      <td>1</td>\n",
              "      <td>Felices los 4</td>\n",
              "      <td>Maluma</td>\n",
              "      <td>34469</td>\n",
              "      <td>https://open.spotify.com/track/0qYTZCo5Bwh1nsU...</td>\n",
              "      <td>2017-05-27</td>\n",
              "      <td>ec</td>\n",
              "    </tr>\n",
              "    <tr>\n",
              "      <th>103400</th>\n",
              "      <td>1</td>\n",
              "      <td>Despacito (Featuring Daddy Yankee)</td>\n",
              "      <td>Luis Fonsi</td>\n",
              "      <td>232445</td>\n",
              "      <td>https://open.spotify.com/track/4aWmUDTfIPGksMN...</td>\n",
              "      <td>2017-05-27</td>\n",
              "      <td>fr</td>\n",
              "    </tr>\n",
              "    <tr>\n",
              "      <th>177600</th>\n",
              "      <td>1</td>\n",
              "      <td>Despacito (Featuring Daddy Yankee)</td>\n",
              "      <td>Luis Fonsi</td>\n",
              "      <td>329911</td>\n",
              "      <td>https://open.spotify.com/track/4aWmUDTfIPGksMN...</td>\n",
              "      <td>2017-05-27</td>\n",
              "      <td>ar</td>\n",
              "    </tr>\n",
              "    <tr>\n",
              "      <th>251800</th>\n",
              "      <td>1</td>\n",
              "      <td>Despacito (Featuring Daddy Yankee)</td>\n",
              "      <td>Luis Fonsi</td>\n",
              "      <td>141129</td>\n",
              "      <td>https://open.spotify.com/track/4aWmUDTfIPGksMN...</td>\n",
              "      <td>2017-05-27</td>\n",
              "      <td>fi</td>\n",
              "    </tr>\n",
              "    <tr>\n",
              "      <th>326000</th>\n",
              "      <td>1</td>\n",
              "      <td>Despacito (Featuring Daddy Yankee)</td>\n",
              "      <td>Luis Fonsi</td>\n",
              "      <td>386475</td>\n",
              "      <td>https://open.spotify.com/track/4aWmUDTfIPGksMN...</td>\n",
              "      <td>2017-05-27</td>\n",
              "      <td>no</td>\n",
              "    </tr>\n",
              "    <tr>\n",
              "      <th>400200</th>\n",
              "      <td>1</td>\n",
              "      <td>Despacito (Featuring Daddy Yankee)</td>\n",
              "      <td>Luis Fonsi</td>\n",
              "      <td>235059</td>\n",
              "      <td>https://open.spotify.com/track/4aWmUDTfIPGksMN...</td>\n",
              "      <td>2017-05-27</td>\n",
              "      <td>it</td>\n",
              "    </tr>\n",
              "    <tr>\n",
              "      <th>453002</th>\n",
              "      <td>1</td>\n",
              "      <td>Despacito (Featuring Daddy Yankee)</td>\n",
              "      <td>Luis Fonsi</td>\n",
              "      <td>6175</td>\n",
              "      <td>https://open.spotify.com/track/4aWmUDTfIPGksMN...</td>\n",
              "      <td>2017-05-27</td>\n",
              "      <td>lt</td>\n",
              "    </tr>\n",
              "    <tr>\n",
              "      <th>491199</th>\n",
              "      <td>1</td>\n",
              "      <td>Despacito (Featuring Daddy Yankee)</td>\n",
              "      <td>Luis Fonsi</td>\n",
              "      <td>207000</td>\n",
              "      <td>https://open.spotify.com/track/4aWmUDTfIPGksMN...</td>\n",
              "      <td>2017-05-27</td>\n",
              "      <td>ph</td>\n",
              "    </tr>\n",
              "    <tr>\n",
              "      <th>565399</th>\n",
              "      <td>1</td>\n",
              "      <td>Despacito (Featuring Daddy Yankee)</td>\n",
              "      <td>Luis Fonsi</td>\n",
              "      <td>27440</td>\n",
              "      <td>https://open.spotify.com/track/4aWmUDTfIPGksMN...</td>\n",
              "      <td>2017-05-27</td>\n",
              "      <td>tw</td>\n",
              "    </tr>\n",
              "    <tr>\n",
              "      <th>639599</th>\n",
              "      <td>1</td>\n",
              "      <td>Despacito (Featuring Daddy Yankee)</td>\n",
              "      <td>Luis Fonsi</td>\n",
              "      <td>81087</td>\n",
              "      <td>https://open.spotify.com/track/4aWmUDTfIPGksMN...</td>\n",
              "      <td>2017-05-27</td>\n",
              "      <td>nz</td>\n",
              "    </tr>\n",
              "    <tr>\n",
              "      <th>691139</th>\n",
              "      <td>1</td>\n",
              "      <td>Despacito (Featuring Daddy Yankee)</td>\n",
              "      <td>Luis Fonsi</td>\n",
              "      <td>5795</td>\n",
              "      <td>https://open.spotify.com/track/4aWmUDTfIPGksMN...</td>\n",
              "      <td>2017-05-27</td>\n",
              "      <td>ee</td>\n",
              "    </tr>\n",
              "    <tr>\n",
              "      <th>726622</th>\n",
              "      <td>1</td>\n",
              "      <td>Despacito (Featuring Daddy Yankee)</td>\n",
              "      <td>Luis Fonsi</td>\n",
              "      <td>64110</td>\n",
              "      <td>https://open.spotify.com/track/4aWmUDTfIPGksMN...</td>\n",
              "      <td>2017-05-27</td>\n",
              "      <td>tr</td>\n",
              "    </tr>\n",
              "    <tr>\n",
              "      <th>800822</th>\n",
              "      <td>1</td>\n",
              "      <td>Despacito (Featuring Daddy Yankee)</td>\n",
              "      <td>Luis Fonsi</td>\n",
              "      <td>2537245</td>\n",
              "      <td>https://open.spotify.com/track/4aWmUDTfIPGksMN...</td>\n",
              "      <td>2017-05-27</td>\n",
              "      <td>us</td>\n",
              "    </tr>\n",
              "    <tr>\n",
              "      <th>858803</th>\n",
              "      <td>1</td>\n",
              "      <td>Felices los 4</td>\n",
              "      <td>Maluma</td>\n",
              "      <td>9135</td>\n",
              "      <td>https://open.spotify.com/track/0qYTZCo5Bwh1nsU...</td>\n",
              "      <td>2017-05-27</td>\n",
              "      <td>sv</td>\n",
              "    </tr>\n",
              "    <tr>\n",
              "      <th>913915</th>\n",
              "      <td>1</td>\n",
              "      <td>Despacito (Featuring Daddy Yankee)</td>\n",
              "      <td>Luis Fonsi</td>\n",
              "      <td>33285</td>\n",
              "      <td>https://open.spotify.com/track/4aWmUDTfIPGksMN...</td>\n",
              "      <td>2017-05-27</td>\n",
              "      <td>cr</td>\n",
              "    </tr>\n",
              "    <tr>\n",
              "      <th>988115</th>\n",
              "      <td>1</td>\n",
              "      <td>Despacito (Featuring Daddy Yankee)</td>\n",
              "      <td>Luis Fonsi</td>\n",
              "      <td>857625</td>\n",
              "      <td>https://open.spotify.com/track/4aWmUDTfIPGksMN...</td>\n",
              "      <td>2017-05-27</td>\n",
              "      <td>de</td>\n",
              "    </tr>\n",
              "    <tr>\n",
              "      <th>1062315</th>\n",
              "      <td>1</td>\n",
              "      <td>Felices los 4</td>\n",
              "      <td>Maluma</td>\n",
              "      <td>189830</td>\n",
              "      <td>https://open.spotify.com/track/0qYTZCo5Bwh1nsU...</td>\n",
              "      <td>2017-05-27</td>\n",
              "      <td>cl</td>\n",
              "    </tr>\n",
              "    <tr>\n",
              "      <th>1134914</th>\n",
              "      <td>1</td>\n",
              "      <td>Despacito (Featuring Daddy Yankee)</td>\n",
              "      <td>Luis Fonsi</td>\n",
              "      <td>19721</td>\n",
              "      <td>https://open.spotify.com/track/4aWmUDTfIPGksMN...</td>\n",
              "      <td>2017-05-27</td>\n",
              "      <td>jp</td>\n",
              "    </tr>\n",
              "    <tr>\n",
              "      <th>1209114</th>\n",
              "      <td>1</td>\n",
              "      <td>Despacito (Featuring Daddy Yankee)</td>\n",
              "      <td>Luis Fonsi</td>\n",
              "      <td>799229</td>\n",
              "      <td>https://open.spotify.com/track/4aWmUDTfIPGksMN...</td>\n",
              "      <td>2017-05-27</td>\n",
              "      <td>br</td>\n",
              "    </tr>\n",
              "    <tr>\n",
              "      <th>1269681</th>\n",
              "      <td>1</td>\n",
              "      <td>Felices los 4</td>\n",
              "      <td>Maluma</td>\n",
              "      <td>11274</td>\n",
              "      <td>https://open.spotify.com/track/0qYTZCo5Bwh1nsU...</td>\n",
              "      <td>2017-05-27</td>\n",
              "      <td>hn</td>\n",
              "    </tr>\n",
              "    <tr>\n",
              "      <th>1320493</th>\n",
              "      <td>1</td>\n",
              "      <td>Felices los 4</td>\n",
              "      <td>Maluma</td>\n",
              "      <td>15378</td>\n",
              "      <td>https://open.spotify.com/track/0qYTZCo5Bwh1nsU...</td>\n",
              "      <td>2017-05-27</td>\n",
              "      <td>gt</td>\n",
              "    </tr>\n",
              "    <tr>\n",
              "      <th>1393750</th>\n",
              "      <td>1</td>\n",
              "      <td>Despacito (Featuring Daddy Yankee)</td>\n",
              "      <td>Luis Fonsi</td>\n",
              "      <td>66822</td>\n",
              "      <td>https://open.spotify.com/track/4aWmUDTfIPGksMN...</td>\n",
              "      <td>2017-05-27</td>\n",
              "      <td>ch</td>\n",
              "    </tr>\n",
              "    <tr>\n",
              "      <th>1460044</th>\n",
              "      <td>1</td>\n",
              "      <td>Despacito (Featuring Daddy Yankee)</td>\n",
              "      <td>Luis Fonsi</td>\n",
              "      <td>22426</td>\n",
              "      <td>https://open.spotify.com/track/4aWmUDTfIPGksMN...</td>\n",
              "      <td>2017-05-27</td>\n",
              "      <td>hu</td>\n",
              "    </tr>\n",
              "    <tr>\n",
              "      <th>1528122</th>\n",
              "      <td>1</td>\n",
              "      <td>Despacito (Featuring Daddy Yankee)</td>\n",
              "      <td>Luis Fonsi</td>\n",
              "      <td>438655</td>\n",
              "      <td>https://open.spotify.com/track/4aWmUDTfIPGksMN...</td>\n",
              "      <td>2017-05-27</td>\n",
              "      <td>ca</td>\n",
              "    </tr>\n",
              "    <tr>\n",
              "      <th>1602322</th>\n",
              "      <td>1</td>\n",
              "      <td>Felices los 4</td>\n",
              "      <td>Maluma</td>\n",
              "      <td>124375</td>\n",
              "      <td>https://open.spotify.com/track/0qYTZCo5Bwh1nsU...</td>\n",
              "      <td>2017-05-27</td>\n",
              "      <td>pe</td>\n",
              "    </tr>\n",
              "    <tr>\n",
              "      <th>1676522</th>\n",
              "      <td>1</td>\n",
              "      <td>Despacito (Featuring Daddy Yankee)</td>\n",
              "      <td>Luis Fonsi</td>\n",
              "      <td>71667</td>\n",
              "      <td>https://open.spotify.com/track/4aWmUDTfIPGksMN...</td>\n",
              "      <td>2017-05-27</td>\n",
              "      <td>be</td>\n",
              "    </tr>\n",
              "    <tr>\n",
              "      <th>1750722</th>\n",
              "      <td>1</td>\n",
              "      <td>Despacito (Featuring Daddy Yankee)</td>\n",
              "      <td>Luis Fonsi</td>\n",
              "      <td>76583</td>\n",
              "      <td>https://open.spotify.com/track/4aWmUDTfIPGksMN...</td>\n",
              "      <td>2017-05-27</td>\n",
              "      <td>my</td>\n",
              "    </tr>\n",
              "    <tr>\n",
              "      <th>1824722</th>\n",
              "      <td>1</td>\n",
              "      <td>Despacito (Featuring Daddy Yankee)</td>\n",
              "      <td>Luis Fonsi</td>\n",
              "      <td>236659</td>\n",
              "      <td>https://open.spotify.com/track/4aWmUDTfIPGksMN...</td>\n",
              "      <td>2017-05-27</td>\n",
              "      <td>dk</td>\n",
              "    </tr>\n",
              "    <tr>\n",
              "      <th>1882539</th>\n",
              "      <td>1</td>\n",
              "      <td>Felices los 4</td>\n",
              "      <td>Maluma</td>\n",
              "      <td>12328</td>\n",
              "      <td>https://open.spotify.com/track/0qYTZCo5Bwh1nsU...</td>\n",
              "      <td>2017-05-27</td>\n",
              "      <td>bo</td>\n",
              "    </tr>\n",
              "    <tr>\n",
              "      <th>1938760</th>\n",
              "      <td>1</td>\n",
              "      <td>Despacito (Featuring Daddy Yankee)</td>\n",
              "      <td>Luis Fonsi</td>\n",
              "      <td>87054</td>\n",
              "      <td>https://open.spotify.com/track/4aWmUDTfIPGksMN...</td>\n",
              "      <td>2017-05-27</td>\n",
              "      <td>pl</td>\n",
              "    </tr>\n",
              "    <tr>\n",
              "      <th>2012960</th>\n",
              "      <td>1</td>\n",
              "      <td>Despacito (Featuring Daddy Yankee)</td>\n",
              "      <td>Luis Fonsi</td>\n",
              "      <td>45505</td>\n",
              "      <td>https://open.spotify.com/track/4aWmUDTfIPGksMN...</td>\n",
              "      <td>2017-05-27</td>\n",
              "      <td>at</td>\n",
              "    </tr>\n",
              "    <tr>\n",
              "      <th>2087160</th>\n",
              "      <td>1</td>\n",
              "      <td>Despacito (Featuring Daddy Yankee)</td>\n",
              "      <td>Luis Fonsi</td>\n",
              "      <td>47416</td>\n",
              "      <td>https://open.spotify.com/track/4aWmUDTfIPGksMN...</td>\n",
              "      <td>2017-05-27</td>\n",
              "      <td>pt</td>\n",
              "    </tr>\n",
              "    <tr>\n",
              "      <th>2161360</th>\n",
              "      <td>1</td>\n",
              "      <td>Despacito (Featuring Daddy Yankee)</td>\n",
              "      <td>Luis Fonsi</td>\n",
              "      <td>589730</td>\n",
              "      <td>https://open.spotify.com/track/4aWmUDTfIPGksMN...</td>\n",
              "      <td>2017-05-27</td>\n",
              "      <td>se</td>\n",
              "    </tr>\n",
              "    <tr>\n",
              "      <th>2235560</th>\n",
              "      <td>1</td>\n",
              "      <td>Felices los 4</td>\n",
              "      <td>Maluma</td>\n",
              "      <td>767697</td>\n",
              "      <td>https://open.spotify.com/track/0qYTZCo5Bwh1nsU...</td>\n",
              "      <td>2017-05-27</td>\n",
              "      <td>mx</td>\n",
              "    </tr>\n",
              "    <tr>\n",
              "      <th>2298591</th>\n",
              "      <td>1</td>\n",
              "      <td>Despacito (Featuring Daddy Yankee)</td>\n",
              "      <td>Luis Fonsi</td>\n",
              "      <td>12707</td>\n",
              "      <td>https://open.spotify.com/track/4aWmUDTfIPGksMN...</td>\n",
              "      <td>2017-05-27</td>\n",
              "      <td>pa</td>\n",
              "    </tr>\n",
              "    <tr>\n",
              "      <th>2358362</th>\n",
              "      <td>1</td>\n",
              "      <td>Despacito (Featuring Daddy Yankee)</td>\n",
              "      <td>Luis Fonsi</td>\n",
              "      <td>19366</td>\n",
              "      <td>https://open.spotify.com/track/4aWmUDTfIPGksMN...</td>\n",
              "      <td>2017-05-27</td>\n",
              "      <td>uy</td>\n",
              "    </tr>\n",
              "    <tr>\n",
              "      <th>2413027</th>\n",
              "      <td>1</td>\n",
              "      <td>Despacito (Featuring Daddy Yankee)</td>\n",
              "      <td>Luis Fonsi</td>\n",
              "      <td>19623</td>\n",
              "      <td>https://open.spotify.com/track/4aWmUDTfIPGksMN...</td>\n",
              "      <td>2017-05-27</td>\n",
              "      <td>is</td>\n",
              "    </tr>\n",
              "    <tr>\n",
              "      <th>2465909</th>\n",
              "      <td>1</td>\n",
              "      <td>Despacito (Featuring Daddy Yankee)</td>\n",
              "      <td>Luis Fonsi</td>\n",
              "      <td>495063</td>\n",
              "      <td>https://open.spotify.com/track/4aWmUDTfIPGksMN...</td>\n",
              "      <td>2017-05-27</td>\n",
              "      <td>es</td>\n",
              "    </tr>\n",
              "    <tr>\n",
              "      <th>2539000</th>\n",
              "      <td>1</td>\n",
              "      <td>Despacito (Featuring Daddy Yankee)</td>\n",
              "      <td>Luis Fonsi</td>\n",
              "      <td>17628</td>\n",
              "      <td>https://open.spotify.com/track/4aWmUDTfIPGksMN...</td>\n",
              "      <td>2017-05-27</td>\n",
              "      <td>cz</td>\n",
              "    </tr>\n",
              "    <tr>\n",
              "      <th>2613200</th>\n",
              "      <td>1</td>\n",
              "      <td>Despacito (Featuring Daddy Yankee)</td>\n",
              "      <td>Luis Fonsi</td>\n",
              "      <td>94021</td>\n",
              "      <td>https://open.spotify.com/track/4aWmUDTfIPGksMN...</td>\n",
              "      <td>2017-05-27</td>\n",
              "      <td>ie</td>\n",
              "    </tr>\n",
              "    <tr>\n",
              "      <th>2687400</th>\n",
              "      <td>1</td>\n",
              "      <td>Despacito (Featuring Daddy Yankee)</td>\n",
              "      <td>Luis Fonsi</td>\n",
              "      <td>381214</td>\n",
              "      <td>https://open.spotify.com/track/4aWmUDTfIPGksMN...</td>\n",
              "      <td>2017-05-27</td>\n",
              "      <td>nl</td>\n",
              "    </tr>\n",
              "    <tr>\n",
              "      <th>2740003</th>\n",
              "      <td>1</td>\n",
              "      <td>Despacito (Featuring Daddy Yankee)</td>\n",
              "      <td>Luis Fonsi</td>\n",
              "      <td>7087</td>\n",
              "      <td>https://open.spotify.com/track/4aWmUDTfIPGksMN...</td>\n",
              "      <td>2017-05-27</td>\n",
              "      <td>sk</td>\n",
              "    </tr>\n",
              "    <tr>\n",
              "      <th>2784197</th>\n",
              "      <td>1</td>\n",
              "      <td>Despacito (Featuring Daddy Yankee)</td>\n",
              "      <td>Luis Fonsi</td>\n",
              "      <td>76260</td>\n",
              "      <td>https://open.spotify.com/track/4aWmUDTfIPGksMN...</td>\n",
              "      <td>2017-05-27</td>\n",
              "      <td>co</td>\n",
              "    </tr>\n",
              "    <tr>\n",
              "      <th>2858397</th>\n",
              "      <td>1</td>\n",
              "      <td>Despacito (Featuring Daddy Yankee)</td>\n",
              "      <td>Luis Fonsi</td>\n",
              "      <td>84318</td>\n",
              "      <td>https://open.spotify.com/track/4aWmUDTfIPGksMN...</td>\n",
              "      <td>2017-05-27</td>\n",
              "      <td>sg</td>\n",
              "    </tr>\n",
              "    <tr>\n",
              "      <th>2932597</th>\n",
              "      <td>1</td>\n",
              "      <td>Despacito (Featuring Daddy Yankee)</td>\n",
              "      <td>Luis Fonsi</td>\n",
              "      <td>108235</td>\n",
              "      <td>https://open.spotify.com/track/4aWmUDTfIPGksMN...</td>\n",
              "      <td>2017-05-27</td>\n",
              "      <td>id</td>\n",
              "    </tr>\n",
              "    <tr>\n",
              "      <th>2999885</th>\n",
              "      <td>1</td>\n",
              "      <td>Despacito (Featuring Daddy Yankee)</td>\n",
              "      <td>Luis Fonsi</td>\n",
              "      <td>15476</td>\n",
              "      <td>https://open.spotify.com/track/4aWmUDTfIPGksMN...</td>\n",
              "      <td>2017-05-27</td>\n",
              "      <td>do</td>\n",
              "    </tr>\n",
              "    <tr>\n",
              "      <th>3040780</th>\n",
              "      <td>1</td>\n",
              "      <td>Despacito (Featuring Daddy Yankee)</td>\n",
              "      <td>Luis Fonsi</td>\n",
              "      <td>5311</td>\n",
              "      <td>https://open.spotify.com/track/4aWmUDTfIPGksMN...</td>\n",
              "      <td>2017-05-27</td>\n",
              "      <td>lu</td>\n",
              "    </tr>\n",
              "    <tr>\n",
              "      <th>3071643</th>\n",
              "      <td>1</td>\n",
              "      <td>Despacito (Featuring Daddy Yankee)</td>\n",
              "      <td>Luis Fonsi</td>\n",
              "      <td>1005214</td>\n",
              "      <td>https://open.spotify.com/track/4aWmUDTfIPGksMN...</td>\n",
              "      <td>2017-05-27</td>\n",
              "      <td>gb</td>\n",
              "    </tr>\n",
              "    <tr>\n",
              "      <th>3145443</th>\n",
              "      <td>1</td>\n",
              "      <td>Despacito (Featuring Daddy Yankee)</td>\n",
              "      <td>Luis Fonsi</td>\n",
              "      <td>11381520</td>\n",
              "      <td>https://open.spotify.com/track/4aWmUDTfIPGksMN...</td>\n",
              "      <td>2017-05-27</td>\n",
              "      <td>global</td>\n",
              "    </tr>\n",
              "    <tr>\n",
              "      <th>3208783</th>\n",
              "      <td>1</td>\n",
              "      <td>Felices los 4</td>\n",
              "      <td>Maluma</td>\n",
              "      <td>18491</td>\n",
              "      <td>https://open.spotify.com/track/0qYTZCo5Bwh1nsU...</td>\n",
              "      <td>2017-05-27</td>\n",
              "      <td>py</td>\n",
              "    </tr>\n",
              "    <tr>\n",
              "      <th>3275440</th>\n",
              "      <td>1</td>\n",
              "      <td>Despacito (Featuring Daddy Yankee)</td>\n",
              "      <td>Luis Fonsi</td>\n",
              "      <td>309758</td>\n",
              "      <td>https://open.spotify.com/track/4aWmUDTfIPGksMN...</td>\n",
              "      <td>2017-05-27</td>\n",
              "      <td>au</td>\n",
              "    </tr>\n",
              "    <tr>\n",
              "      <th>3328018</th>\n",
              "      <td>1</td>\n",
              "      <td>Despacito (Featuring Daddy Yankee)</td>\n",
              "      <td>Luis Fonsi</td>\n",
              "      <td>4885</td>\n",
              "      <td>https://open.spotify.com/track/4aWmUDTfIPGksMN...</td>\n",
              "      <td>2017-05-27</td>\n",
              "      <td>lv</td>\n",
              "    </tr>\n",
              "    <tr>\n",
              "      <th>3349468</th>\n",
              "      <td>1</td>\n",
              "      <td>Despacito (Featuring Daddy Yankee)</td>\n",
              "      <td>Luis Fonsi</td>\n",
              "      <td>10809</td>\n",
              "      <td>https://open.spotify.com/track/4aWmUDTfIPGksMN...</td>\n",
              "      <td>2017-05-27</td>\n",
              "      <td>gr</td>\n",
              "    </tr>\n",
              "    <tr>\n",
              "      <th>3396197</th>\n",
              "      <td>1</td>\n",
              "      <td>Despacito (Featuring Daddy Yankee)</td>\n",
              "      <td>Luis Fonsi</td>\n",
              "      <td>22533</td>\n",
              "      <td>https://open.spotify.com/track/4aWmUDTfIPGksMN...</td>\n",
              "      <td>2017-05-27</td>\n",
              "      <td>hk</td>\n",
              "    </tr>\n",
              "  </tbody>\n",
              "</table>\n",
              "</div>"
            ],
            "text/plain": [
              "         Position                          Track Name  ...        Date  Region\n",
              "29200           1                       Felices los 4  ...  2017-05-27      ec\n",
              "103400          1  Despacito (Featuring Daddy Yankee)  ...  2017-05-27      fr\n",
              "177600          1  Despacito (Featuring Daddy Yankee)  ...  2017-05-27      ar\n",
              "251800          1  Despacito (Featuring Daddy Yankee)  ...  2017-05-27      fi\n",
              "326000          1  Despacito (Featuring Daddy Yankee)  ...  2017-05-27      no\n",
              "400200          1  Despacito (Featuring Daddy Yankee)  ...  2017-05-27      it\n",
              "453002          1  Despacito (Featuring Daddy Yankee)  ...  2017-05-27      lt\n",
              "491199          1  Despacito (Featuring Daddy Yankee)  ...  2017-05-27      ph\n",
              "565399          1  Despacito (Featuring Daddy Yankee)  ...  2017-05-27      tw\n",
              "639599          1  Despacito (Featuring Daddy Yankee)  ...  2017-05-27      nz\n",
              "691139          1  Despacito (Featuring Daddy Yankee)  ...  2017-05-27      ee\n",
              "726622          1  Despacito (Featuring Daddy Yankee)  ...  2017-05-27      tr\n",
              "800822          1  Despacito (Featuring Daddy Yankee)  ...  2017-05-27      us\n",
              "858803          1                       Felices los 4  ...  2017-05-27      sv\n",
              "913915          1  Despacito (Featuring Daddy Yankee)  ...  2017-05-27      cr\n",
              "988115          1  Despacito (Featuring Daddy Yankee)  ...  2017-05-27      de\n",
              "1062315         1                       Felices los 4  ...  2017-05-27      cl\n",
              "1134914         1  Despacito (Featuring Daddy Yankee)  ...  2017-05-27      jp\n",
              "1209114         1  Despacito (Featuring Daddy Yankee)  ...  2017-05-27      br\n",
              "1269681         1                       Felices los 4  ...  2017-05-27      hn\n",
              "1320493         1                       Felices los 4  ...  2017-05-27      gt\n",
              "1393750         1  Despacito (Featuring Daddy Yankee)  ...  2017-05-27      ch\n",
              "1460044         1  Despacito (Featuring Daddy Yankee)  ...  2017-05-27      hu\n",
              "1528122         1  Despacito (Featuring Daddy Yankee)  ...  2017-05-27      ca\n",
              "1602322         1                       Felices los 4  ...  2017-05-27      pe\n",
              "1676522         1  Despacito (Featuring Daddy Yankee)  ...  2017-05-27      be\n",
              "1750722         1  Despacito (Featuring Daddy Yankee)  ...  2017-05-27      my\n",
              "1824722         1  Despacito (Featuring Daddy Yankee)  ...  2017-05-27      dk\n",
              "1882539         1                       Felices los 4  ...  2017-05-27      bo\n",
              "1938760         1  Despacito (Featuring Daddy Yankee)  ...  2017-05-27      pl\n",
              "2012960         1  Despacito (Featuring Daddy Yankee)  ...  2017-05-27      at\n",
              "2087160         1  Despacito (Featuring Daddy Yankee)  ...  2017-05-27      pt\n",
              "2161360         1  Despacito (Featuring Daddy Yankee)  ...  2017-05-27      se\n",
              "2235560         1                       Felices los 4  ...  2017-05-27      mx\n",
              "2298591         1  Despacito (Featuring Daddy Yankee)  ...  2017-05-27      pa\n",
              "2358362         1  Despacito (Featuring Daddy Yankee)  ...  2017-05-27      uy\n",
              "2413027         1  Despacito (Featuring Daddy Yankee)  ...  2017-05-27      is\n",
              "2465909         1  Despacito (Featuring Daddy Yankee)  ...  2017-05-27      es\n",
              "2539000         1  Despacito (Featuring Daddy Yankee)  ...  2017-05-27      cz\n",
              "2613200         1  Despacito (Featuring Daddy Yankee)  ...  2017-05-27      ie\n",
              "2687400         1  Despacito (Featuring Daddy Yankee)  ...  2017-05-27      nl\n",
              "2740003         1  Despacito (Featuring Daddy Yankee)  ...  2017-05-27      sk\n",
              "2784197         1  Despacito (Featuring Daddy Yankee)  ...  2017-05-27      co\n",
              "2858397         1  Despacito (Featuring Daddy Yankee)  ...  2017-05-27      sg\n",
              "2932597         1  Despacito (Featuring Daddy Yankee)  ...  2017-05-27      id\n",
              "2999885         1  Despacito (Featuring Daddy Yankee)  ...  2017-05-27      do\n",
              "3040780         1  Despacito (Featuring Daddy Yankee)  ...  2017-05-27      lu\n",
              "3071643         1  Despacito (Featuring Daddy Yankee)  ...  2017-05-27      gb\n",
              "3145443         1  Despacito (Featuring Daddy Yankee)  ...  2017-05-27  global\n",
              "3208783         1                       Felices los 4  ...  2017-05-27      py\n",
              "3275440         1  Despacito (Featuring Daddy Yankee)  ...  2017-05-27      au\n",
              "3328018         1  Despacito (Featuring Daddy Yankee)  ...  2017-05-27      lv\n",
              "3349468         1  Despacito (Featuring Daddy Yankee)  ...  2017-05-27      gr\n",
              "3396197         1  Despacito (Featuring Daddy Yankee)  ...  2017-05-27      hk\n",
              "\n",
              "[54 rows x 7 columns]"
            ]
          },
          "metadata": {
            "tags": []
          },
          "execution_count": 10
        }
      ]
    },
    {
      "cell_type": "markdown",
      "metadata": {
        "id": "Rd_M-sthgsal"
      },
      "source": [
        "# **Bài tập 1**: Tìm bài hát (track name) có stream lớn nhất.\n",
        "---\n",
        "\n"
      ]
    },
    {
      "cell_type": "code",
      "metadata": {
        "id": "LZYJwnsmhkJx",
        "colab": {
          "base_uri": "https://localhost:8080/",
          "height": 104
        },
        "outputId": "550ccd84-ad36-41e9-dfb1-5fe8d1bab7b3"
      },
      "source": [
        "data_df.max()"
      ],
      "execution_count": null,
      "outputs": [
        {
          "output_type": "execute_result",
          "data": {
            "text/plain": [
              "Position           200\n",
              "Streams       11381520\n",
              "Date        2018-01-09\n",
              "Region              uy\n",
              "dtype: object"
            ]
          },
          "metadata": {
            "tags": []
          },
          "execution_count": 11
        }
      ]
    },
    {
      "cell_type": "code",
      "metadata": {
        "id": "lpuunhoniL2p",
        "colab": {
          "base_uri": "https://localhost:8080/",
          "height": 35
        },
        "outputId": "795a52e2-063e-4815-955f-0e89a10bbbe5"
      },
      "source": [
        "data_df[\"Streams\"].max()"
      ],
      "execution_count": null,
      "outputs": [
        {
          "output_type": "execute_result",
          "data": {
            "text/plain": [
              "11381520"
            ]
          },
          "metadata": {
            "tags": []
          },
          "execution_count": 12
        }
      ]
    },
    {
      "cell_type": "code",
      "metadata": {
        "id": "oK09UywbiTVw",
        "colab": {
          "base_uri": "https://localhost:8080/",
          "height": 79
        },
        "outputId": "a4594b38-c116-4ea2-e719-36d121b6a3df"
      },
      "source": [
        "data_df[data_df[\"Streams\"]==data_df[\"Streams\"].max()]"
      ],
      "execution_count": null,
      "outputs": [
        {
          "output_type": "execute_result",
          "data": {
            "text/html": [
              "<div>\n",
              "<style scoped>\n",
              "    .dataframe tbody tr th:only-of-type {\n",
              "        vertical-align: middle;\n",
              "    }\n",
              "\n",
              "    .dataframe tbody tr th {\n",
              "        vertical-align: top;\n",
              "    }\n",
              "\n",
              "    .dataframe thead th {\n",
              "        text-align: right;\n",
              "    }\n",
              "</style>\n",
              "<table border=\"1\" class=\"dataframe\">\n",
              "  <thead>\n",
              "    <tr style=\"text-align: right;\">\n",
              "      <th></th>\n",
              "      <th>Position</th>\n",
              "      <th>Track Name</th>\n",
              "      <th>Artist</th>\n",
              "      <th>Streams</th>\n",
              "      <th>URL</th>\n",
              "      <th>Date</th>\n",
              "      <th>Region</th>\n",
              "    </tr>\n",
              "  </thead>\n",
              "  <tbody>\n",
              "    <tr>\n",
              "      <th>3145443</th>\n",
              "      <td>1</td>\n",
              "      <td>Despacito (Featuring Daddy Yankee)</td>\n",
              "      <td>Luis Fonsi</td>\n",
              "      <td>11381520</td>\n",
              "      <td>https://open.spotify.com/track/4aWmUDTfIPGksMN...</td>\n",
              "      <td>2017-05-27</td>\n",
              "      <td>global</td>\n",
              "    </tr>\n",
              "  </tbody>\n",
              "</table>\n",
              "</div>"
            ],
            "text/plain": [
              "         Position                          Track Name  ...        Date  Region\n",
              "3145443         1  Despacito (Featuring Daddy Yankee)  ...  2017-05-27  global\n",
              "\n",
              "[1 rows x 7 columns]"
            ]
          },
          "metadata": {
            "tags": []
          },
          "execution_count": 13
        }
      ]
    },
    {
      "cell_type": "markdown",
      "metadata": {
        "id": "CARPtskVhhLy"
      },
      "source": [
        "# **Bài tập 2**: Tìm bài hát (track name) có stream lớn nhất theo ngày. \n",
        "\n",
        "\n",
        "---\n",
        "\n"
      ]
    },
    {
      "cell_type": "code",
      "metadata": {
        "id": "KgRc6iHzjpHA"
      },
      "source": [
        "data_df.groupby([\"Date\"])[\"Streams\"].max()"
      ],
      "execution_count": null,
      "outputs": []
    },
    {
      "cell_type": "code",
      "metadata": {
        "id": "fIdpObN8lKrX",
        "colab": {
          "base_uri": "https://localhost:8080/",
          "height": 243
        },
        "outputId": "595e8fed-7fa8-4a87-f788-3742f3784e58"
      },
      "source": [
        "data_df.groupby([\"Date\"])[\"Streams\"].idxmax()"
      ],
      "execution_count": null,
      "outputs": [
        {
          "output_type": "execute_result",
          "data": {
            "text/plain": [
              "Date\n",
              "2017-01-01    3116643\n",
              "2017-01-02    3116843\n",
              "2017-01-03    3117043\n",
              "2017-01-04    3117243\n",
              "2017-01-05    3117443\n",
              "               ...   \n",
              "2018-01-05    3189443\n",
              "2018-01-06    3189643\n",
              "2018-01-07    3189843\n",
              "2018-01-08    3190043\n",
              "2018-01-09    3190243\n",
              "Name: Streams, Length: 371, dtype: int64"
            ]
          },
          "metadata": {
            "tags": []
          },
          "execution_count": 23
        }
      ]
    },
    {
      "cell_type": "code",
      "metadata": {
        "id": "D5jlJM4ClZ0P",
        "colab": {
          "base_uri": "https://localhost:8080/",
          "height": 415
        },
        "outputId": "b3edfd21-92c1-46d7-e63f-c3e822d979fe"
      },
      "source": [
        "data_df.loc[data_df.groupby([\"Date\"])[\"Streams\"].idxmax()]"
      ],
      "execution_count": null,
      "outputs": [
        {
          "output_type": "execute_result",
          "data": {
            "text/html": [
              "<div>\n",
              "<style scoped>\n",
              "    .dataframe tbody tr th:only-of-type {\n",
              "        vertical-align: middle;\n",
              "    }\n",
              "\n",
              "    .dataframe tbody tr th {\n",
              "        vertical-align: top;\n",
              "    }\n",
              "\n",
              "    .dataframe thead th {\n",
              "        text-align: right;\n",
              "    }\n",
              "</style>\n",
              "<table border=\"1\" class=\"dataframe\">\n",
              "  <thead>\n",
              "    <tr style=\"text-align: right;\">\n",
              "      <th></th>\n",
              "      <th>Position</th>\n",
              "      <th>Track Name</th>\n",
              "      <th>Artist</th>\n",
              "      <th>Streams</th>\n",
              "      <th>URL</th>\n",
              "      <th>Date</th>\n",
              "      <th>Region</th>\n",
              "    </tr>\n",
              "  </thead>\n",
              "  <tbody>\n",
              "    <tr>\n",
              "      <th>3116643</th>\n",
              "      <td>1</td>\n",
              "      <td>Starboy</td>\n",
              "      <td>The Weeknd</td>\n",
              "      <td>3135625</td>\n",
              "      <td>https://open.spotify.com/track/5aAx2yezTd8zXrk...</td>\n",
              "      <td>2017-01-01</td>\n",
              "      <td>global</td>\n",
              "    </tr>\n",
              "    <tr>\n",
              "      <th>3116843</th>\n",
              "      <td>1</td>\n",
              "      <td>Starboy</td>\n",
              "      <td>The Weeknd</td>\n",
              "      <td>3342769</td>\n",
              "      <td>https://open.spotify.com/track/5aAx2yezTd8zXrk...</td>\n",
              "      <td>2017-01-02</td>\n",
              "      <td>global</td>\n",
              "    </tr>\n",
              "    <tr>\n",
              "      <th>3117043</th>\n",
              "      <td>1</td>\n",
              "      <td>Starboy</td>\n",
              "      <td>The Weeknd</td>\n",
              "      <td>3563076</td>\n",
              "      <td>https://open.spotify.com/track/5aAx2yezTd8zXrk...</td>\n",
              "      <td>2017-01-03</td>\n",
              "      <td>global</td>\n",
              "    </tr>\n",
              "    <tr>\n",
              "      <th>3117243</th>\n",
              "      <td>1</td>\n",
              "      <td>Starboy</td>\n",
              "      <td>The Weeknd</td>\n",
              "      <td>3619247</td>\n",
              "      <td>https://open.spotify.com/track/5aAx2yezTd8zXrk...</td>\n",
              "      <td>2017-01-04</td>\n",
              "      <td>global</td>\n",
              "    </tr>\n",
              "    <tr>\n",
              "      <th>3117443</th>\n",
              "      <td>1</td>\n",
              "      <td>Starboy</td>\n",
              "      <td>The Weeknd</td>\n",
              "      <td>3579206</td>\n",
              "      <td>https://open.spotify.com/track/5aAx2yezTd8zXrk...</td>\n",
              "      <td>2017-01-05</td>\n",
              "      <td>global</td>\n",
              "    </tr>\n",
              "    <tr>\n",
              "      <th>...</th>\n",
              "      <td>...</td>\n",
              "      <td>...</td>\n",
              "      <td>...</td>\n",
              "      <td>...</td>\n",
              "      <td>...</td>\n",
              "      <td>...</td>\n",
              "      <td>...</td>\n",
              "    </tr>\n",
              "    <tr>\n",
              "      <th>3189443</th>\n",
              "      <td>1</td>\n",
              "      <td>rockstar</td>\n",
              "      <td>Post Malone</td>\n",
              "      <td>4346638</td>\n",
              "      <td>https://open.spotify.com/track/7wGoVu4Dady5GV0...</td>\n",
              "      <td>2018-01-05</td>\n",
              "      <td>global</td>\n",
              "    </tr>\n",
              "    <tr>\n",
              "      <th>3189643</th>\n",
              "      <td>1</td>\n",
              "      <td>rockstar</td>\n",
              "      <td>Post Malone</td>\n",
              "      <td>4208156</td>\n",
              "      <td>https://open.spotify.com/track/7wGoVu4Dady5GV0...</td>\n",
              "      <td>2018-01-06</td>\n",
              "      <td>global</td>\n",
              "    </tr>\n",
              "    <tr>\n",
              "      <th>3189843</th>\n",
              "      <td>1</td>\n",
              "      <td>rockstar</td>\n",
              "      <td>Post Malone</td>\n",
              "      <td>3814379</td>\n",
              "      <td>https://open.spotify.com/track/7wGoVu4Dady5GV0...</td>\n",
              "      <td>2018-01-07</td>\n",
              "      <td>global</td>\n",
              "    </tr>\n",
              "    <tr>\n",
              "      <th>3190043</th>\n",
              "      <td>1</td>\n",
              "      <td>rockstar</td>\n",
              "      <td>Post Malone</td>\n",
              "      <td>4062918</td>\n",
              "      <td>https://open.spotify.com/track/7wGoVu4Dady5GV0...</td>\n",
              "      <td>2018-01-08</td>\n",
              "      <td>global</td>\n",
              "    </tr>\n",
              "    <tr>\n",
              "      <th>3190243</th>\n",
              "      <td>1</td>\n",
              "      <td>rockstar</td>\n",
              "      <td>Post Malone</td>\n",
              "      <td>4139989</td>\n",
              "      <td>https://open.spotify.com/track/7wGoVu4Dady5GV0...</td>\n",
              "      <td>2018-01-09</td>\n",
              "      <td>global</td>\n",
              "    </tr>\n",
              "  </tbody>\n",
              "</table>\n",
              "<p>371 rows × 7 columns</p>\n",
              "</div>"
            ],
            "text/plain": [
              "         Position Track Name  ...        Date  Region\n",
              "3116643         1    Starboy  ...  2017-01-01  global\n",
              "3116843         1    Starboy  ...  2017-01-02  global\n",
              "3117043         1    Starboy  ...  2017-01-03  global\n",
              "3117243         1    Starboy  ...  2017-01-04  global\n",
              "3117443         1    Starboy  ...  2017-01-05  global\n",
              "...           ...        ...  ...         ...     ...\n",
              "3189443         1   rockstar  ...  2018-01-05  global\n",
              "3189643         1   rockstar  ...  2018-01-06  global\n",
              "3189843         1   rockstar  ...  2018-01-07  global\n",
              "3190043         1   rockstar  ...  2018-01-08  global\n",
              "3190243         1   rockstar  ...  2018-01-09  global\n",
              "\n",
              "[371 rows x 7 columns]"
            ]
          },
          "metadata": {
            "tags": []
          },
          "execution_count": 24
        }
      ]
    },
    {
      "cell_type": "code",
      "metadata": {
        "id": "vr6AfnDOmmgH"
      },
      "source": [
        "data_df.groupby([\"Date\"])[\"Streams\"].transform('max')"
      ],
      "execution_count": null,
      "outputs": []
    },
    {
      "cell_type": "code",
      "metadata": {
        "id": "3lr-ntKu9afX"
      },
      "source": [
        ""
      ],
      "execution_count": null,
      "outputs": []
    },
    {
      "cell_type": "code",
      "metadata": {
        "id": "QQfQaHplocpP"
      },
      "source": [
        "data_df[data_df[\"Streams\"] == data_df.groupby([\"Date\"])[\"Streams\"].transform('max') ].sort_values(by=\"Date\")"
      ],
      "execution_count": null,
      "outputs": []
    },
    {
      "cell_type": "code",
      "metadata": {
        "id": "EUB2XxoaVhoj"
      },
      "source": [
        ""
      ],
      "execution_count": null,
      "outputs": []
    },
    {
      "cell_type": "markdown",
      "metadata": {
        "id": "rxeQLYFfhbyX"
      },
      "source": [
        "# Biểu đồ danh sách các nghệ sĩ có nhiều bài hát đạt top\n"
      ]
    },
    {
      "cell_type": "code",
      "metadata": {
        "id": "F0VtBXaHuHI5"
      },
      "source": [
        "artist_count_df = feature_df.groupby([\"artists\"])[\"artists\"].agg(['count'])\n",
        "artist_count_df"
      ],
      "execution_count": null,
      "outputs": []
    },
    {
      "cell_type": "code",
      "metadata": {
        "id": "RCEWF-_RV-aL"
      },
      "source": [
        "artist_count_df = artist_count_df[artist_count_df[\"count\"] >=2].sort_values(by=[\"count\"])\n",
        "artist_count_df"
      ],
      "execution_count": null,
      "outputs": []
    },
    {
      "cell_type": "code",
      "metadata": {
        "id": "L0YGI5_iueN4"
      },
      "source": [
        "ax = artist_count_df.plot.barh(use_index=True, y='count')"
      ],
      "execution_count": null,
      "outputs": []
    },
    {
      "cell_type": "markdown",
      "metadata": {
        "id": "QfIyUFdwnKMi"
      },
      "source": [
        "# Biểu đồ lượng streams của các top song theo ngày"
      ]
    },
    {
      "cell_type": "code",
      "metadata": {
        "id": "1coCG-DbnIzj"
      },
      "source": [
        "#Biểu đồ theo ngày (Ví dụ: lấy 10 ngày đầu tiên)\n",
        "total_stream_by_date_df = data_df.groupby([\"Date\"])[\"Streams\"].agg([\"sum\"]).iloc[0:10]"
      ],
      "execution_count": null,
      "outputs": []
    },
    {
      "cell_type": "code",
      "metadata": {
        "id": "6gMJWuflnsgm",
        "colab": {
          "base_uri": "https://localhost:8080/",
          "height": 290
        },
        "outputId": "c5d73167-42c3-49ba-f705-0b1857df5fcf"
      },
      "source": [
        "ax = total_stream_by_date_df.plot.line(use_index=True, y='sum')"
      ],
      "execution_count": null,
      "outputs": [
        {
          "output_type": "display_data",
          "data": {
            "image/png": "[encoded data removed]",
            "text/plain": [
              "<Figure size 432x288 with 1 Axes>"
            ]
          },
          "metadata": {
            "tags": [],
            "needs_background": "light"
          }
        }
      ]
    },
    {
      "cell_type": "markdown",
      "metadata": {
        "id": "Ugjqto-mowiR"
      },
      "source": [
        "# Bài tập 3: Biểu đồ lượng streams của các top song theo tháng"
      ]
    },
    {
      "cell_type": "code",
      "metadata": {
        "id": "-oRw96t0ovLz"
      },
      "source": [
        "data_df[\"month\"] = data_df[\"Date\"].apply(lambda x: x[0:7])\n",
        "data_df"
      ],
      "execution_count": null,
      "outputs": []
    },
    {
      "cell_type": "code",
      "metadata": {
        "id": "N8hzuWk4qDJE"
      },
      "source": [
        "total_stream_by_date_df = data_df.groupby([\"month\"])[\"Streams\"].agg([\"sum\"])\n",
        "ax = total_stream_by_date_df.plot.line(use_index=True, y='sum')"
      ],
      "execution_count": null,
      "outputs": []
    },
    {
      "cell_type": "markdown",
      "metadata": {
        "id": "ojhCaAjhy3DI"
      },
      "source": [
        "\n",
        "# Bài tập 4: Vẽ biểu đồ top 20 Tác giả có lượng play time cao nhất ở Mỹ (Region == \"us\")\n",
        "Lưu ý: Play time = Streams * duration"
      ]
    },
    {
      "cell_type": "code",
      "metadata": {
        "id": "jlbkYqjiHw9W"
      },
      "source": [
        "#count stream\n",
        "total_stream_df = data_df[data_df.Region == \"us\"].groupby([\"Track Name\"])[\"Streams\"].agg([\"sum\"])\n",
        "total_stream_df.rename(columns={\"sum\":\"total_streams\"},inplace=True)\n",
        "                 \n",
        "playtime_df = feature_df.set_index([\"name\"]).join(total_stream_df,how=\"left\")\n",
        "playtime_df[\"play_time\"] = (playtime_df[\"duration\"].values * playtime_df[\"total_streams\"].values)/86400\n",
        "playtime_df\n"
      ],
      "execution_count": null,
      "outputs": []
    },
    {
      "cell_type": "code",
      "metadata": {
        "id": "a1wyntTYcS7B"
      },
      "source": [
        "top20_df = playtime_df.nlargest(20,[\"play_time\"])[[\"play_time\"]]\n",
        "\n",
        "play_time_ax = top20_df.sort_values(by=[\"play_time\"],ascending=True).plot.barh(use_index=True, y='play_time')"
      ],
      "execution_count": null,
      "outputs": []
    },
    {
      "cell_type": "markdown",
      "metadata": {
        "id": "_8VCsudLwbS3"
      },
      "source": [
        "# Bài tập 5 Số lần (số ngày) các bài hát của Ed Sheeran nằm trong top 100 ở Bảng xếp hạng Mỹ"
      ]
    },
    {
      "cell_type": "code",
      "metadata": {
        "id": "aptg6s-gilEk"
      },
      "source": [
        "#How did Ed Sheeran’s Songs perform in 2017 on daily basis\n",
        "ed_sheeran_daily_df = data_df[(data_df.Region==\"us\") & (data_df.Artist == \"Ed Sheeran\") & (data_df.Position <= 100)]\n",
        "count_ed_sheeran_daily_df = ed_sheeran_daily_df.groupby([\"Track Name\"])[\"Date\"].agg([\"count\"])\n",
        "count_ed_sheeran_daily_df.sort_values(by=[\"count\"],ascending=False)\n"
      ],
      "execution_count": null,
      "outputs": []
    },
    {
      "cell_type": "markdown",
      "metadata": {
        "id": "1bKOlbabrMNE"
      },
      "source": [
        "# Bài tập 6 Diễn biến xếp hạng của bài Shape of you của tác giả Ed Sheeran trong top 100 ở Mỹ. Mở rộng: diễn biến các bài hát của Ed Sheeran trong top 100 ở Mỹ"
      ]
    },
    {
      "cell_type": "code",
      "metadata": {
        "id": "08PV8YwlaRu7"
      },
      "source": [
        "ed_sheeran_daily_df[ed_sheeran_daily_df[\"Track Name\"]==\"Shape of You\"]"
      ],
      "execution_count": null,
      "outputs": []
    },
    {
      "cell_type": "code",
      "metadata": {
        "id": "slSYN3eIsytZ",
        "colab": {
          "base_uri": "https://localhost:8080/",
          "height": 593
        },
        "outputId": "fb1d810a-6f08-43e4-d6fa-28b37bd85b0a"
      },
      "source": [
        "ax = ed_sheeran_daily_df[ed_sheeran_daily_df[\"Track Name\"]==\"Shape of You\"].plot.scatter(x=\"Date\",y=\"Position\",figsize=(40,15))\n",
        "ax.get_xticks()\n",
        "ax.set_xticks(ax.get_xticks()[::50])\n"
      ],
      "execution_count": null,
      "outputs": [
        {
          "output_type": "execute_result",
          "data": {
            "text/plain": [
              "[<matplotlib.axis.XTick at 0x7f74cf4e8f28>,\n",
              " <matplotlib.axis.XTick at 0x7f74cf4d7390>,\n",
              " <matplotlib.axis.XTick at 0x7f74cf495470>,\n",
              " <matplotlib.axis.XTick at 0x7f74cf495748>,\n",
              " <matplotlib.axis.XTick at 0x7f74cf495be0>,\n",
              " <matplotlib.axis.XTick at 0x7f74cf4ab128>,\n",
              " <matplotlib.axis.XTick at 0x7f74cf495898>,\n",
              " <matplotlib.axis.XTick at 0x7f74cf4ab278>]"
            ]
          },
          "metadata": {
            "tags": []
          },
          "execution_count": 96
        },
        {
          "output_type": "display_data",
          "data": {
            "image/png": "[encoded data removed]",
            "text/plain": [
              "<Figure size 2880x1080 with 1 Axes>"
            ]
          },
          "metadata": {
            "tags": [],
            "needs_background": "light"
          }
        }
      ]
    },
    {
      "cell_type": "code",
      "metadata": {
        "id": "e1aKoVVBazp1",
        "colab": {
          "base_uri": "https://localhost:8080/",
          "height": 470
        },
        "outputId": "990e6f06-6be4-4fae-b916-5d9bf8f05cc4"
      },
      "source": [
        "import seaborn as sns\n",
        "plt.figure(figsize=(40,15))\n",
        "\n",
        "ax = sns.scatterplot(x=\"Date\", y=\"Position\",hue=\"Track Name\", data=ed_sheeran_daily_df)\n",
        "ax.get_xticks()\n",
        "ax.set_xticks(ax.get_xticks()[::50])\n",
        "ax.legend()"
      ],
      "execution_count": null,
      "outputs": [
        {
          "output_type": "execute_result",
          "data": {
            "text/plain": [
              "<matplotlib.legend.Legend at 0x7f74cff73e48>"
            ]
          },
          "metadata": {
            "tags": []
          },
          "execution_count": 97
        },
        {
          "output_type": "display_data",
          "data": {
            "image/png": "[encoded data removed]",
            "text/plain": [
              "<Figure size 2880x1080 with 1 Axes>"
            ]
          },
          "metadata": {
            "tags": [],
            "needs_background": "light"
          }
        }
      ]
    },
    {
      "cell_type": "markdown",
      "metadata": {
        "id": "jHu3RqplxTMi"
      },
      "source": [
        "# Mối quan hệ giữa các đặc trưng của bài hát"
      ]
    },
    {
      "cell_type": "code",
      "metadata": {
        "id": "v-bupV7PQJlc",
        "colab": {
          "base_uri": "https://localhost:8080/",
          "height": 309
        },
        "outputId": "fdf4ac3e-8aa4-4aef-d36c-8e6d9d1ca9f4"
      },
      "source": [
        "#count key on Top Songs\n",
        "feature_df.groupby([\"key\"])[\"id\"].agg(\"count\").plot.bar(use_index=True,y=\"count\")\n",
        "\n"
      ],
      "execution_count": null,
      "outputs": [
        {
          "output_type": "execute_result",
          "data": {
            "text/plain": [
              "<matplotlib.axes._subplots.AxesSubplot at 0x7f74cd9e2358>"
            ]
          },
          "metadata": {
            "tags": []
          },
          "execution_count": 118
        },
        {
          "output_type": "display_data",
          "data": {
            "image/png": "[encoded data removed]",
            "text/plain": [
              "<Figure size 432x288 with 1 Axes>"
            ]
          },
          "metadata": {
            "tags": [],
            "needs_background": "light"
          }
        }
      ]
    },
    {
      "cell_type": "code",
      "metadata": {
        "id": "-Z4KsAeYSIDQ",
        "colab": {
          "base_uri": "https://localhost:8080/",
          "height": 319
        },
        "outputId": "484cced4-ec20-425f-c024-bb43b34adaf5"
      },
      "source": [
        "sns.distplot(feature_df[\"energy\"],hist=False, kde_kws = {'shade': True, 'linewidth': 3},label = \"energy\")\n",
        "sns.distplot(feature_df[\"danceability\"],hist=False, kde_kws = {'shade': True, 'linewidth': 3},label = \"danceability\")\n",
        "sns.distplot(feature_df[\"valence\"],hist=False, kde_kws = {'shade': True, 'linewidth': 3},label = \"valence\")\n",
        "plt.title('Density plot of Energy, Valence and Danceability')\n",
        "plt.xlabel('Energy, Valence and Danceability')\n",
        "plt.legend(prop={'size': 8}, title = 'Airline')\n"
      ],
      "execution_count": null,
      "outputs": [
        {
          "output_type": "execute_result",
          "data": {
            "text/plain": [
              "<matplotlib.legend.Legend at 0x7f74cbf39a90>"
            ]
          },
          "metadata": {
            "tags": []
          },
          "execution_count": 149
        },
        {
          "output_type": "display_data",
          "data": {
            "image/png": "[encoded data removed]",
            "text/plain": [
              "<Figure size 432x288 with 1 Axes>"
            ]
          },
          "metadata": {
            "tags": []
          }
        }
      ]
    },
    {
      "cell_type": "code",
      "metadata": {
        "id": "VufA0n6gO65S",
        "colab": {
          "base_uri": "https://localhost:8080/",
          "height": 631
        },
        "outputId": "f06841d1-7add-4841-b639-93964766e37e"
      },
      "source": [
        "# correlation\n",
        "import matplotlib.pyplot as plt\n",
        "corr = feature_df.corr()\n",
        "\n",
        "mask = np.zeros_like(corr, dtype=np.bool)\n",
        "mask[np.triu_indices_from(mask)] = True\n",
        "\n",
        "# Set up the matplotlib figure\n",
        "f, ax = plt.subplots(figsize=(11, 9))\n",
        "\n",
        "# Generate a custom diverging colormap\n",
        "cmap = sns.diverging_palette(220, 10, as_cmap=True)\n",
        "\n",
        "# Draw the heatmap with the mask and correct aspect ratio\n",
        "sns.heatmap(corr, mask=mask, cmap=cmap, center=0,\n",
        "            square=True, linewidths=.5, cbar_kws={\"shrink\": 0.5})"
      ],
      "execution_count": null,
      "outputs": [
        {
          "output_type": "execute_result",
          "data": {
            "text/plain": [
              "<matplotlib.axes._subplots.AxesSubplot at 0x7f74ccf58cf8>"
            ]
          },
          "metadata": {
            "tags": []
          },
          "execution_count": 117
        },
        {
          "output_type": "display_data",
          "data": {
            "image/png": "[encoded data removed]",
            "text/plain": [
              "<Figure size 792x648 with 2 Axes>"
            ]
          },
          "metadata": {
            "tags": [],
            "needs_background": "light"
          }
        }
      ]
    },
    {
      "cell_type": "markdown",
      "metadata": {
        "id": "a_nrDLPomZ_3"
      },
      "source": [
        "# Bài tập 7: Sử dụng PCA để biểu diễn các bài hát bằng biểu đồ scatter (dùng dữ liệu featuresdf)"
      ]
    },
    {
      "cell_type": "code",
      "metadata": {
        "id": "Pqmy8xNLnIvi",
        "colab": {
          "base_uri": "https://localhost:8080/",
          "height": 350
        },
        "outputId": "154ba1af-05a8-46ea-b591-d30158fc24b7"
      },
      "source": [
        "feature_df.head()"
      ],
      "execution_count": null,
      "outputs": [
        {
          "output_type": "execute_result",
          "data": {
            "text/html": [
              "<div>\n",
              "<style scoped>\n",
              "    .dataframe tbody tr th:only-of-type {\n",
              "        vertical-align: middle;\n",
              "    }\n",
              "\n",
              "    .dataframe tbody tr th {\n",
              "        vertical-align: top;\n",
              "    }\n",
              "\n",
              "    .dataframe thead th {\n",
              "        text-align: right;\n",
              "    }\n",
              "</style>\n",
              "<table border=\"1\" class=\"dataframe\">\n",
              "  <thead>\n",
              "    <tr style=\"text-align: right;\">\n",
              "      <th></th>\n",
              "      <th>id</th>\n",
              "      <th>name</th>\n",
              "      <th>artists</th>\n",
              "      <th>danceability</th>\n",
              "      <th>energy</th>\n",
              "      <th>key</th>\n",
              "      <th>loudness</th>\n",
              "      <th>mode</th>\n",
              "      <th>speechiness</th>\n",
              "      <th>acousticness</th>\n",
              "      <th>instrumentalness</th>\n",
              "      <th>liveness</th>\n",
              "      <th>valence</th>\n",
              "      <th>tempo</th>\n",
              "      <th>duration_ms</th>\n",
              "      <th>time_signature</th>\n",
              "    </tr>\n",
              "  </thead>\n",
              "  <tbody>\n",
              "    <tr>\n",
              "      <th>0</th>\n",
              "      <td>7qiZfU4dY1lWllzX7mPBI</td>\n",
              "      <td>Shape of You</td>\n",
              "      <td>Ed Sheeran</td>\n",
              "      <td>0.825</td>\n",
              "      <td>0.652</td>\n",
              "      <td>1.0</td>\n",
              "      <td>-3.183</td>\n",
              "      <td>0.0</td>\n",
              "      <td>0.0802</td>\n",
              "      <td>0.5810</td>\n",
              "      <td>0.000000</td>\n",
              "      <td>0.0931</td>\n",
              "      <td>0.931</td>\n",
              "      <td>95.977</td>\n",
              "      <td>233713.0</td>\n",
              "      <td>4.0</td>\n",
              "    </tr>\n",
              "    <tr>\n",
              "      <th>1</th>\n",
              "      <td>5CtI0qwDJkDQGwXD1H1cL</td>\n",
              "      <td>Despacito - Remix</td>\n",
              "      <td>Luis Fonsi</td>\n",
              "      <td>0.694</td>\n",
              "      <td>0.815</td>\n",
              "      <td>2.0</td>\n",
              "      <td>-4.328</td>\n",
              "      <td>1.0</td>\n",
              "      <td>0.1200</td>\n",
              "      <td>0.2290</td>\n",
              "      <td>0.000000</td>\n",
              "      <td>0.0924</td>\n",
              "      <td>0.813</td>\n",
              "      <td>88.931</td>\n",
              "      <td>228827.0</td>\n",
              "      <td>4.0</td>\n",
              "    </tr>\n",
              "    <tr>\n",
              "      <th>2</th>\n",
              "      <td>4aWmUDTfIPGksMNLV2rQP</td>\n",
              "      <td>Despacito (Featuring Daddy Yankee)</td>\n",
              "      <td>Luis Fonsi</td>\n",
              "      <td>0.660</td>\n",
              "      <td>0.786</td>\n",
              "      <td>2.0</td>\n",
              "      <td>-4.757</td>\n",
              "      <td>1.0</td>\n",
              "      <td>0.1700</td>\n",
              "      <td>0.2090</td>\n",
              "      <td>0.000000</td>\n",
              "      <td>0.1120</td>\n",
              "      <td>0.846</td>\n",
              "      <td>177.833</td>\n",
              "      <td>228200.0</td>\n",
              "      <td>4.0</td>\n",
              "    </tr>\n",
              "    <tr>\n",
              "      <th>3</th>\n",
              "      <td>6RUKPb4LETWmmr3iAEQkt</td>\n",
              "      <td>Something Just Like This</td>\n",
              "      <td>The Chainsmokers</td>\n",
              "      <td>0.617</td>\n",
              "      <td>0.635</td>\n",
              "      <td>11.0</td>\n",
              "      <td>-6.769</td>\n",
              "      <td>0.0</td>\n",
              "      <td>0.0317</td>\n",
              "      <td>0.0498</td>\n",
              "      <td>0.000014</td>\n",
              "      <td>0.1640</td>\n",
              "      <td>0.446</td>\n",
              "      <td>103.019</td>\n",
              "      <td>247160.0</td>\n",
              "      <td>4.0</td>\n",
              "    </tr>\n",
              "    <tr>\n",
              "      <th>4</th>\n",
              "      <td>3DXncPQOG4VBw3QHh3S81</td>\n",
              "      <td>I'm the One</td>\n",
              "      <td>DJ Khaled</td>\n",
              "      <td>0.609</td>\n",
              "      <td>0.668</td>\n",
              "      <td>7.0</td>\n",
              "      <td>-4.284</td>\n",
              "      <td>1.0</td>\n",
              "      <td>0.0367</td>\n",
              "      <td>0.0552</td>\n",
              "      <td>0.000000</td>\n",
              "      <td>0.1670</td>\n",
              "      <td>0.811</td>\n",
              "      <td>80.924</td>\n",
              "      <td>288600.0</td>\n",
              "      <td>4.0</td>\n",
              "    </tr>\n",
              "  </tbody>\n",
              "</table>\n",
              "</div>"
            ],
            "text/plain": [
              "                      id  ... time_signature\n",
              "0  7qiZfU4dY1lWllzX7mPBI  ...            4.0\n",
              "1  5CtI0qwDJkDQGwXD1H1cL  ...            4.0\n",
              "2  4aWmUDTfIPGksMNLV2rQP  ...            4.0\n",
              "3  6RUKPb4LETWmmr3iAEQkt  ...            4.0\n",
              "4  3DXncPQOG4VBw3QHh3S81  ...            4.0\n",
              "\n",
              "[5 rows x 16 columns]"
            ]
          },
          "metadata": {
            "tags": []
          },
          "execution_count": 7
        }
      ]
    },
    {
      "cell_type": "code",
      "metadata": {
        "id": "yYKTHfS_nWNE",
        "colab": {
          "base_uri": "https://localhost:8080/",
          "height": 402
        },
        "outputId": "37da2280-01e3-4316-d116-633f3d15fb2e"
      },
      "source": [
        "feature_df[[\"danceability\",\"energy\",\"key\",\"mode\",\"speechiness\",\"acousticness\",\"instrumentalness\",\"liveness\",\"valence\",\"tempo\", \"duration_ms\",\"time_signature\"]]"
      ],
      "execution_count": null,
      "outputs": [
        {
          "output_type": "execute_result",
          "data": {
            "text/html": [
              "<div>\n",
              "<style scoped>\n",
              "    .dataframe tbody tr th:only-of-type {\n",
              "        vertical-align: middle;\n",
              "    }\n",
              "\n",
              "    .dataframe tbody tr th {\n",
              "        vertical-align: top;\n",
              "    }\n",
              "\n",
              "    .dataframe thead th {\n",
              "        text-align: right;\n",
              "    }\n",
              "</style>\n",
              "<table border=\"1\" class=\"dataframe\">\n",
              "  <thead>\n",
              "    <tr style=\"text-align: right;\">\n",
              "      <th></th>\n",
              "      <th>danceability</th>\n",
              "      <th>energy</th>\n",
              "      <th>key</th>\n",
              "      <th>mode</th>\n",
              "      <th>speechiness</th>\n",
              "      <th>acousticness</th>\n",
              "      <th>instrumentalness</th>\n",
              "      <th>liveness</th>\n",
              "      <th>valence</th>\n",
              "      <th>tempo</th>\n",
              "      <th>duration_ms</th>\n",
              "      <th>time_signature</th>\n",
              "    </tr>\n",
              "  </thead>\n",
              "  <tbody>\n",
              "    <tr>\n",
              "      <th>0</th>\n",
              "      <td>0.825</td>\n",
              "      <td>0.652</td>\n",
              "      <td>1.0</td>\n",
              "      <td>0.0</td>\n",
              "      <td>0.0802</td>\n",
              "      <td>0.5810</td>\n",
              "      <td>0.000000</td>\n",
              "      <td>0.0931</td>\n",
              "      <td>0.9310</td>\n",
              "      <td>95.977</td>\n",
              "      <td>233713.0</td>\n",
              "      <td>4.0</td>\n",
              "    </tr>\n",
              "    <tr>\n",
              "      <th>1</th>\n",
              "      <td>0.694</td>\n",
              "      <td>0.815</td>\n",
              "      <td>2.0</td>\n",
              "      <td>1.0</td>\n",
              "      <td>0.1200</td>\n",
              "      <td>0.2290</td>\n",
              "      <td>0.000000</td>\n",
              "      <td>0.0924</td>\n",
              "      <td>0.8130</td>\n",
              "      <td>88.931</td>\n",
              "      <td>228827.0</td>\n",
              "      <td>4.0</td>\n",
              "    </tr>\n",
              "    <tr>\n",
              "      <th>2</th>\n",
              "      <td>0.660</td>\n",
              "      <td>0.786</td>\n",
              "      <td>2.0</td>\n",
              "      <td>1.0</td>\n",
              "      <td>0.1700</td>\n",
              "      <td>0.2090</td>\n",
              "      <td>0.000000</td>\n",
              "      <td>0.1120</td>\n",
              "      <td>0.8460</td>\n",
              "      <td>177.833</td>\n",
              "      <td>228200.0</td>\n",
              "      <td>4.0</td>\n",
              "    </tr>\n",
              "    <tr>\n",
              "      <th>3</th>\n",
              "      <td>0.617</td>\n",
              "      <td>0.635</td>\n",
              "      <td>11.0</td>\n",
              "      <td>0.0</td>\n",
              "      <td>0.0317</td>\n",
              "      <td>0.0498</td>\n",
              "      <td>0.000014</td>\n",
              "      <td>0.1640</td>\n",
              "      <td>0.4460</td>\n",
              "      <td>103.019</td>\n",
              "      <td>247160.0</td>\n",
              "      <td>4.0</td>\n",
              "    </tr>\n",
              "    <tr>\n",
              "      <th>4</th>\n",
              "      <td>0.609</td>\n",
              "      <td>0.668</td>\n",
              "      <td>7.0</td>\n",
              "      <td>1.0</td>\n",
              "      <td>0.0367</td>\n",
              "      <td>0.0552</td>\n",
              "      <td>0.000000</td>\n",
              "      <td>0.1670</td>\n",
              "      <td>0.8110</td>\n",
              "      <td>80.924</td>\n",
              "      <td>288600.0</td>\n",
              "      <td>4.0</td>\n",
              "    </tr>\n",
              "    <tr>\n",
              "      <th>...</th>\n",
              "      <td>...</td>\n",
              "      <td>...</td>\n",
              "      <td>...</td>\n",
              "      <td>...</td>\n",
              "      <td>...</td>\n",
              "      <td>...</td>\n",
              "      <td>...</td>\n",
              "      <td>...</td>\n",
              "      <td>...</td>\n",
              "      <td>...</td>\n",
              "      <td>...</td>\n",
              "      <td>...</td>\n",
              "    </tr>\n",
              "    <tr>\n",
              "      <th>95</th>\n",
              "      <td>0.675</td>\n",
              "      <td>0.690</td>\n",
              "      <td>2.0</td>\n",
              "      <td>1.0</td>\n",
              "      <td>0.1320</td>\n",
              "      <td>0.2100</td>\n",
              "      <td>0.000000</td>\n",
              "      <td>0.2870</td>\n",
              "      <td>0.2720</td>\n",
              "      <td>137.817</td>\n",
              "      <td>239293.0</td>\n",
              "      <td>4.0</td>\n",
              "    </tr>\n",
              "    <tr>\n",
              "      <th>96</th>\n",
              "      <td>0.542</td>\n",
              "      <td>0.859</td>\n",
              "      <td>11.0</td>\n",
              "      <td>1.0</td>\n",
              "      <td>0.1970</td>\n",
              "      <td>0.1600</td>\n",
              "      <td>0.004660</td>\n",
              "      <td>0.1370</td>\n",
              "      <td>0.4030</td>\n",
              "      <td>159.797</td>\n",
              "      <td>208053.0</td>\n",
              "      <td>4.0</td>\n",
              "    </tr>\n",
              "    <tr>\n",
              "      <th>97</th>\n",
              "      <td>0.731</td>\n",
              "      <td>0.469</td>\n",
              "      <td>5.0</td>\n",
              "      <td>1.0</td>\n",
              "      <td>0.0326</td>\n",
              "      <td>0.4630</td>\n",
              "      <td>0.000001</td>\n",
              "      <td>0.1030</td>\n",
              "      <td>0.6310</td>\n",
              "      <td>98.963</td>\n",
              "      <td>165387.0</td>\n",
              "      <td>4.0</td>\n",
              "    </tr>\n",
              "    <tr>\n",
              "      <th>98</th>\n",
              "      <td>0.658</td>\n",
              "      <td>0.588</td>\n",
              "      <td>6.0</td>\n",
              "      <td>0.0</td>\n",
              "      <td>0.0367</td>\n",
              "      <td>0.1050</td>\n",
              "      <td>0.000001</td>\n",
              "      <td>0.1250</td>\n",
              "      <td>0.4340</td>\n",
              "      <td>110.075</td>\n",
              "      <td>214802.0</td>\n",
              "      <td>4.0</td>\n",
              "    </tr>\n",
              "    <tr>\n",
              "      <th>99</th>\n",
              "      <td>0.258</td>\n",
              "      <td>0.437</td>\n",
              "      <td>11.0</td>\n",
              "      <td>0.0</td>\n",
              "      <td>0.0390</td>\n",
              "      <td>0.1010</td>\n",
              "      <td>0.000001</td>\n",
              "      <td>0.1060</td>\n",
              "      <td>0.0967</td>\n",
              "      <td>180.043</td>\n",
              "      <td>239000.0</td>\n",
              "      <td>4.0</td>\n",
              "    </tr>\n",
              "  </tbody>\n",
              "</table>\n",
              "<p>100 rows × 12 columns</p>\n",
              "</div>"
            ],
            "text/plain": [
              "    danceability  energy   key  ...    tempo  duration_ms  time_signature\n",
              "0          0.825   0.652   1.0  ...   95.977     233713.0             4.0\n",
              "1          0.694   0.815   2.0  ...   88.931     228827.0             4.0\n",
              "2          0.660   0.786   2.0  ...  177.833     228200.0             4.0\n",
              "3          0.617   0.635  11.0  ...  103.019     247160.0             4.0\n",
              "4          0.609   0.668   7.0  ...   80.924     288600.0             4.0\n",
              "..           ...     ...   ...  ...      ...          ...             ...\n",
              "95         0.675   0.690   2.0  ...  137.817     239293.0             4.0\n",
              "96         0.542   0.859  11.0  ...  159.797     208053.0             4.0\n",
              "97         0.731   0.469   5.0  ...   98.963     165387.0             4.0\n",
              "98         0.658   0.588   6.0  ...  110.075     214802.0             4.0\n",
              "99         0.258   0.437  11.0  ...  180.043     239000.0             4.0\n",
              "\n",
              "[100 rows x 12 columns]"
            ]
          },
          "metadata": {
            "tags": []
          },
          "execution_count": 8
        }
      ]
    },
    {
      "cell_type": "code",
      "metadata": {
        "id": "hmT8esKnnjyc",
        "colab": {
          "base_uri": "https://localhost:8080/",
          "height": 235
        },
        "outputId": "c6cee34f-d7f6-4676-e8ca-92cde6d9d22c"
      },
      "source": [
        "from sklearn.preprocessing import StandardScaler\n",
        "x = feature_df[[\"danceability\",\"energy\",\"key\",\"mode\",\"speechiness\",\"acousticness\",\"instrumentalness\",\"liveness\",\"valence\",\"tempo\", \"duration_ms\",\"time_signature\"]].values\n",
        "x = StandardScaler().fit_transform(x)\n",
        "x"
      ],
      "execution_count": null,
      "outputs": [
        {
          "output_type": "execute_result",
          "data": {
            "text/plain": [
              "array([[ 1.0299491 , -0.06273942, -1.23086732, ..., -0.83506335,\n",
              "         0.46887132,  0.10050378],\n",
              "       [-0.0226592 ,  1.11407601, -0.96153092, ..., -1.08839983,\n",
              "         0.31939023,  0.10050378],\n",
              "       [-0.29585525,  0.90470394, -0.96153092, ...,  2.1080407 ,\n",
              "         0.30020795,  0.10050378],\n",
              "       ...,\n",
              "       [ 0.27464238, -1.38394939, -0.15352174, ..., -0.72770275,\n",
              "        -1.62147757,  0.10050378],\n",
              "       [-0.3119256 , -0.52480193,  0.11581465, ..., -0.32817465,\n",
              "        -0.10968718,  0.10050378],\n",
              "       [-3.52599674, -1.61498064,  1.46249661, ...,  2.18750048,\n",
              "         0.6306205 ,  0.10050378]])"
            ]
          },
          "metadata": {
            "tags": []
          },
          "execution_count": 10
        }
      ]
    },
    {
      "cell_type": "code",
      "metadata": {
        "id": "qbwPNzWFozFI",
        "colab": {
          "base_uri": "https://localhost:8080/",
          "height": 402
        },
        "outputId": "c56ed972-e696-4887-d94c-b7337b955242"
      },
      "source": [
        "from sklearn.decomposition import PCA\n",
        "pca = PCA(n_components=2)\n",
        "principalComponents = pca.fit_transform(x)\n",
        "principalDf = pd.DataFrame(data = principalComponents\n",
        "             , columns = ['principal component 1', 'principal component 2'])\n",
        "principalDf"
      ],
      "execution_count": null,
      "outputs": [
        {
          "output_type": "execute_result",
          "data": {
            "text/html": [
              "<div>\n",
              "<style scoped>\n",
              "    .dataframe tbody tr th:only-of-type {\n",
              "        vertical-align: middle;\n",
              "    }\n",
              "\n",
              "    .dataframe tbody tr th {\n",
              "        vertical-align: top;\n",
              "    }\n",
              "\n",
              "    .dataframe thead th {\n",
              "        text-align: right;\n",
              "    }\n",
              "</style>\n",
              "<table border=\"1\" class=\"dataframe\">\n",
              "  <thead>\n",
              "    <tr style=\"text-align: right;\">\n",
              "      <th></th>\n",
              "      <th>principal component 1</th>\n",
              "      <th>principal component 2</th>\n",
              "    </tr>\n",
              "  </thead>\n",
              "  <tbody>\n",
              "    <tr>\n",
              "      <th>0</th>\n",
              "      <td>-2.837690</td>\n",
              "      <td>1.232744</td>\n",
              "    </tr>\n",
              "    <tr>\n",
              "      <th>1</th>\n",
              "      <td>-1.499614</td>\n",
              "      <td>0.022366</td>\n",
              "    </tr>\n",
              "    <tr>\n",
              "      <th>2</th>\n",
              "      <td>0.313782</td>\n",
              "      <td>-0.785407</td>\n",
              "    </tr>\n",
              "    <tr>\n",
              "      <th>3</th>\n",
              "      <td>0.224982</td>\n",
              "      <td>-0.132229</td>\n",
              "    </tr>\n",
              "    <tr>\n",
              "      <th>4</th>\n",
              "      <td>-0.764038</td>\n",
              "      <td>0.329994</td>\n",
              "    </tr>\n",
              "    <tr>\n",
              "      <th>...</th>\n",
              "      <td>...</td>\n",
              "      <td>...</td>\n",
              "    </tr>\n",
              "    <tr>\n",
              "      <th>95</th>\n",
              "      <td>1.217487</td>\n",
              "      <td>-0.155512</td>\n",
              "    </tr>\n",
              "    <tr>\n",
              "      <th>96</th>\n",
              "      <td>1.704961</td>\n",
              "      <td>-1.074203</td>\n",
              "    </tr>\n",
              "    <tr>\n",
              "      <th>97</th>\n",
              "      <td>-1.199045</td>\n",
              "      <td>1.458176</td>\n",
              "    </tr>\n",
              "    <tr>\n",
              "      <th>98</th>\n",
              "      <td>0.048354</td>\n",
              "      <td>0.063101</td>\n",
              "    </tr>\n",
              "    <tr>\n",
              "      <th>99</th>\n",
              "      <td>4.124497</td>\n",
              "      <td>0.296700</td>\n",
              "    </tr>\n",
              "  </tbody>\n",
              "</table>\n",
              "<p>100 rows × 2 columns</p>\n",
              "</div>"
            ],
            "text/plain": [
              "    principal component 1  principal component 2\n",
              "0               -2.837690               1.232744\n",
              "1               -1.499614               0.022366\n",
              "2                0.313782              -0.785407\n",
              "3                0.224982              -0.132229\n",
              "4               -0.764038               0.329994\n",
              "..                    ...                    ...\n",
              "95               1.217487              -0.155512\n",
              "96               1.704961              -1.074203\n",
              "97              -1.199045               1.458176\n",
              "98               0.048354               0.063101\n",
              "99               4.124497               0.296700\n",
              "\n",
              "[100 rows x 2 columns]"
            ]
          },
          "metadata": {
            "tags": []
          },
          "execution_count": 11
        }
      ]
    },
    {
      "cell_type": "code",
      "metadata": {
        "id": "1tolbKjXo_XO",
        "colab": {
          "base_uri": "https://localhost:8080/",
          "height": 296
        },
        "outputId": "ed7c9fa2-9cd3-43a9-a269-a658217fdb0a"
      },
      "source": [
        "principalDf.plot.scatter(x=\"principal component 1\",y=\"principal component 2\")"
      ],
      "execution_count": null,
      "outputs": [
        {
          "output_type": "execute_result",
          "data": {
            "text/plain": [
              "<matplotlib.axes._subplots.AxesSubplot at 0x7fc1531aff60>"
            ]
          },
          "metadata": {
            "tags": []
          },
          "execution_count": 19
        },
        {
          "output_type": "display_data",
          "data": {
            "image/png": "[encoded data removed]",
            "text/plain": [
              "<Figure size 432x288 with 1 Axes>"
            ]
          },
          "metadata": {
            "tags": [],
            "needs_background": "light"
          }
        }
      ]
    },
    {
      "cell_type": "markdown",
      "metadata": {
        "id": "vAvi0Ihl_7TT"
      },
      "source": [
        "#BTVN: TSNE"
      ]
    },
    {
      "cell_type": "code",
      "metadata": {
        "id": "bRJBnW_j_8PV"
      },
      "source": [
        "from sklearn.preprocessing import StandardScaler\n",
        "x = feature_df[[\"danceability\",\"energy\",\"key\",\"mode\",\"speechiness\",\"acousticness\",\"instrumentalness\",\"liveness\",\"valence\",\"tempo\", \"duration_ms\",\"time_signature\"]].values\n",
        "x = StandardScaler().fit_transform(x)"
      ],
      "execution_count": null,
      "outputs": []
    },
    {
      "cell_type": "code",
      "metadata": {
        "id": "OoGxxLVLBcSP"
      },
      "source": [
        "from sklearn.decomposition import PCA\n",
        "pca = PCA(n_components=2)\n",
        "principalComponents = pca.fit_transform(x)\n",
        "principalDf = pd.DataFrame(data = principalComponents\n",
        "             , columns = ['principal component 1', 'principal component 2'])\n",
        "principalDf\n",
        "\n",
        "\n"
      ],
      "execution_count": null,
      "outputs": []
    },
    {
      "cell_type": "code",
      "metadata": {
        "id": "W8DmhPpWBwns",
        "colab": {
          "base_uri": "https://localhost:8080/",
          "height": 402
        },
        "outputId": "fc4d2a84-e9b1-4889-8947-6d94ce46f7f4"
      },
      "source": [
        "from sklearn.manifold import TSNE\n",
        "tsne = TSNE(n_components=2, random_state=0)\n",
        "tsneComponents = tsne.fit_transform(x)\n",
        "tsneDf = pd.DataFrame(data = tsneComponents\n",
        "             , columns = ['principal component 1', 'principal component 2'])\n",
        "tsneDf"
      ],
      "execution_count": null,
      "outputs": [
        {
          "output_type": "execute_result",
          "data": {
            "text/html": [
              "<div>\n",
              "<style scoped>\n",
              "    .dataframe tbody tr th:only-of-type {\n",
              "        vertical-align: middle;\n",
              "    }\n",
              "\n",
              "    .dataframe tbody tr th {\n",
              "        vertical-align: top;\n",
              "    }\n",
              "\n",
              "    .dataframe thead th {\n",
              "        text-align: right;\n",
              "    }\n",
              "</style>\n",
              "<table border=\"1\" class=\"dataframe\">\n",
              "  <thead>\n",
              "    <tr style=\"text-align: right;\">\n",
              "      <th></th>\n",
              "      <th>principal component 1</th>\n",
              "      <th>principal component 2</th>\n",
              "    </tr>\n",
              "  </thead>\n",
              "  <tbody>\n",
              "    <tr>\n",
              "      <th>0</th>\n",
              "      <td>-4.197419</td>\n",
              "      <td>6.097089</td>\n",
              "    </tr>\n",
              "    <tr>\n",
              "      <th>1</th>\n",
              "      <td>-2.334922</td>\n",
              "      <td>1.323148</td>\n",
              "    </tr>\n",
              "    <tr>\n",
              "      <th>2</th>\n",
              "      <td>3.539589</td>\n",
              "      <td>1.736230</td>\n",
              "    </tr>\n",
              "    <tr>\n",
              "      <th>3</th>\n",
              "      <td>0.051888</td>\n",
              "      <td>6.011904</td>\n",
              "    </tr>\n",
              "    <tr>\n",
              "      <th>4</th>\n",
              "      <td>-0.887525</td>\n",
              "      <td>0.793969</td>\n",
              "    </tr>\n",
              "    <tr>\n",
              "      <th>...</th>\n",
              "      <td>...</td>\n",
              "      <td>...</td>\n",
              "    </tr>\n",
              "    <tr>\n",
              "      <th>95</th>\n",
              "      <td>0.764910</td>\n",
              "      <td>0.728416</td>\n",
              "    </tr>\n",
              "    <tr>\n",
              "      <th>96</th>\n",
              "      <td>2.418404</td>\n",
              "      <td>3.188422</td>\n",
              "    </tr>\n",
              "    <tr>\n",
              "      <th>97</th>\n",
              "      <td>-5.576960</td>\n",
              "      <td>3.467630</td>\n",
              "    </tr>\n",
              "    <tr>\n",
              "      <th>98</th>\n",
              "      <td>-0.598604</td>\n",
              "      <td>5.852863</td>\n",
              "    </tr>\n",
              "    <tr>\n",
              "      <th>99</th>\n",
              "      <td>3.553019</td>\n",
              "      <td>4.778434</td>\n",
              "    </tr>\n",
              "  </tbody>\n",
              "</table>\n",
              "<p>100 rows × 2 columns</p>\n",
              "</div>"
            ],
            "text/plain": [
              "    principal component 1  principal component 2\n",
              "0               -4.197419               6.097089\n",
              "1               -2.334922               1.323148\n",
              "2                3.539589               1.736230\n",
              "3                0.051888               6.011904\n",
              "4               -0.887525               0.793969\n",
              "..                    ...                    ...\n",
              "95               0.764910               0.728416\n",
              "96               2.418404               3.188422\n",
              "97              -5.576960               3.467630\n",
              "98              -0.598604               5.852863\n",
              "99               3.553019               4.778434\n",
              "\n",
              "[100 rows x 2 columns]"
            ]
          },
          "metadata": {
            "tags": []
          },
          "execution_count": 13
        }
      ]
    },
    {
      "cell_type": "code",
      "metadata": {
        "id": "5OjiKBTjB8Tz",
        "colab": {
          "base_uri": "https://localhost:8080/",
          "height": 296
        },
        "outputId": "3de951bf-3a71-436a-8a9e-8e34abf85be5"
      },
      "source": [
        "tsneDf.plot.scatter(x=\"principal component 1\",y=\"principal component 2\")"
      ],
      "execution_count": null,
      "outputs": [
        {
          "output_type": "execute_result",
          "data": {
            "text/plain": [
              "<matplotlib.axes._subplots.AxesSubplot at 0x7f40a75d8c50>"
            ]
          },
          "metadata": {
            "tags": []
          },
          "execution_count": 14
        },
        {
          "output_type": "display_data",
          "data": {
            "image/png": "[encoded data removed]",
            "text/plain": [
              "<Figure size 432x288 with 1 Axes>"
            ]
          },
          "metadata": {
            "tags": [],
            "needs_background": "light"
          }
        }
      ]
    },
    {
      "cell_type": "markdown",
      "metadata": {
        "id": "9mqauHViCZXD"
      },
      "source": [
        "Nhận xét về PCA so với TSNE:\n",
        "- PCA cố gắng tách các điểm càng xa càng tốt. TSNE nhóm các điểm có cùng đặc điểm càng gần càng tốt\n",
        "- PCA làm giảm kích thước tuyến tính. TSNE làm giảm kích thước phi tuyến tính\n",
        "- PCA sử dụng kỹ thuật đại số tuyến tính. TSNE sử dụng kĩ thuật xác suất"
      ]
    }
  ]
}